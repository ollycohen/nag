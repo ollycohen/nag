{
 "cells": [
  {
   "cell_type": "code",
   "execution_count": 1,
   "metadata": {},
   "outputs": [],
   "source": [
    "%matplotlib inline\n",
    "import numpy as np\n",
    "import pandas as pd\n",
    "import matplotlib\n",
    "from dask.distributed import Client\n",
    "from dask.distributed import progress"
   ]
  },
  {
   "cell_type": "code",
   "execution_count": 2,
   "metadata": {},
   "outputs": [],
   "source": [
    "# bad_df_shape = (3847460917, 6)\n",
    "bad_df_shape =   (3200000000, 6)"
   ]
  },
  {
   "cell_type": "code",
   "execution_count": 3,
   "metadata": {},
   "outputs": [],
   "source": [
    "from dask.distributed import Client\n",
    "from dask.distributed import progress\n",
    "\n",
    "# Create a connection to the Dask cluster. The dask-scheduler must be running on\n",
    "# the same machine as this notebook and listening for inbound clients at port 5555.\n",
    "client = Client('localhost:5555')"
   ]
  },
  {
   "cell_type": "code",
   "execution_count": 5,
   "metadata": {},
   "outputs": [
    {
     "data": {
      "text/plain": [
       "64"
      ]
     },
     "execution_count": 5,
     "metadata": {},
     "output_type": "execute_result"
    }
   ],
   "source": [
    "# Collect the descriptions of each worker (<host>:<port>) into a list. Print out how many workers we have.\n",
    "\n",
    "workers = [x[6:] for x in client.scheduler_info()['workers'].keys()]\n",
    "len(workers)"
   ]
  },
  {
   "cell_type": "code",
   "execution_count": 6,
   "metadata": {},
   "outputs": [
    {
     "data": {
      "text/plain": [
       "['10.222.10.131:37831',\n",
       " '10.222.10.131:38133',\n",
       " '10.222.10.131:40864',\n",
       " '10.222.10.131:45083',\n",
       " '10.222.10.131:45240']"
      ]
     },
     "execution_count": 6,
     "metadata": {},
     "output_type": "execute_result"
    }
   ],
   "source": [
    "workers[:5]"
   ]
  },
  {
   "cell_type": "code",
   "execution_count": 7,
   "metadata": {},
   "outputs": [
    {
     "data": {
      "text/plain": [
       "50000000"
      ]
     },
     "execution_count": 7,
     "metadata": {},
     "output_type": "execute_result"
    }
   ],
   "source": [
    "rows_per_worker = int((bad_df_shape[0] + len(workers) - 1) / len(workers))\n",
    "rows_per_worker"
   ]
  },
  {
   "cell_type": "code",
   "execution_count": 8,
   "metadata": {},
   "outputs": [],
   "source": [
    "import dask.array as da\n",
    "import dask\n",
    "\n",
    "def load_chunk_of_bad_data(nrecords):\n",
    "    return np.random.rand(nrecords, 6)\n",
    "\n",
    "chunks_per_worker = 10\n",
    "chunk_size = int(rows_per_worker / chunks_per_worker)\n",
    "\n",
    "all_delayed = []\n",
    "for w in range(len(workers)):\n",
    "    start_row = w * rows_per_worker\n",
    "    end_row = (w + 1) * rows_per_worker\n",
    "    if end_row > bad_df_shape[0]:\n",
    "        end_row = bad_df_shape[0]\n",
    "\n",
    "    worker = workers[w]\n",
    "    x = dask.delayed(load_chunk_of_bad_data)(end_row - start_row)\n",
    "    x = da.from_delayed(x, shape = (end_row - start_row, 6), dtype=float)\n",
    "    x = x.rechunk((chunk_size, -1))\n",
    "    all_delayed.append(x)"
   ]
  },
  {
   "cell_type": "code",
   "execution_count": 9,
   "metadata": {},
   "outputs": [
    {
     "data": {
      "text/plain": [
       "dask.array<concatenate, shape=(3200000000, 6), dtype=float64, chunksize=(5000000, 6)>"
      ]
     },
     "execution_count": 9,
     "metadata": {},
     "output_type": "execute_result"
    }
   ],
   "source": [
    "# Concatenate all of the arrays we just loaded individually on each worker into a single, logical, global array\n",
    "# so that we can operate on it as a single entity.\n",
    "\n",
    "dist_bad_df = da.concatenate(all_delayed, axis = 0)\n",
    "dist_bad_df = dist_bad_df.persist()\n",
    "dist_bad_df"
   ]
  },
  {
   "cell_type": "code",
   "execution_count": 10,
   "metadata": {},
   "outputs": [
    {
     "name": "stdout",
     "output_type": "stream",
     "text": [
      "CPU times: user 14.5 ms, sys: 5.79 ms, total: 20.2 ms\n",
      "Wall time: 3.12 s\n"
     ]
    },
    {
     "data": {
      "text/plain": [
       "array([[ 0.2481061 ,  0.54395154,  0.65272167,  0.43346395,  0.93913228,\n",
       "         0.23735166],\n",
       "       [ 0.36886134,  0.5205662 ,  0.62998593,  0.15110813,  0.15967887,\n",
       "         0.75349068],\n",
       "       [ 0.88162457,  0.00257781,  0.67075228,  0.32088316,  0.10245093,\n",
       "         0.97378567],\n",
       "       [ 0.62263075,  0.73209041,  0.80858509,  0.25899956,  0.32133552,\n",
       "         0.03037572],\n",
       "       [ 0.98358528,  0.76943356,  0.03518472,  0.30579856,  0.57920286,\n",
       "         0.46482212]])"
      ]
     },
     "execution_count": 10,
     "metadata": {},
     "output_type": "execute_result"
    }
   ],
   "source": [
    "%%time\n",
    "# Just to make sure everything worked, glance at the first 5 rows of our globally distributed array.\n",
    "dist_bad_df[:5, :].compute()"
   ]
  },
  {
   "cell_type": "code",
   "execution_count": 11,
   "metadata": {},
   "outputs": [
    {
     "name": "stdout",
     "output_type": "stream",
     "text": [
      "CPU times: user 3.45 ms, sys: 1.3 ms, total: 4.75 ms\n",
      "Wall time: 8.43 ms\n"
     ]
    },
    {
     "data": {
      "text/plain": [
       "array([[ 0.2481061 ,  0.54395154,  0.65272167,  0.43346395,  0.93913228,\n",
       "         0.23735166],\n",
       "       [ 0.36886134,  0.5205662 ,  0.62998593,  0.15110813,  0.15967887,\n",
       "         0.75349068],\n",
       "       [ 0.88162457,  0.00257781,  0.67075228,  0.32088316,  0.10245093,\n",
       "         0.97378567],\n",
       "       [ 0.62263075,  0.73209041,  0.80858509,  0.25899956,  0.32133552,\n",
       "         0.03037572],\n",
       "       [ 0.98358528,  0.76943356,  0.03518472,  0.30579856,  0.57920286,\n",
       "         0.46482212]])"
      ]
     },
     "execution_count": 11,
     "metadata": {},
     "output_type": "execute_result"
    }
   ],
   "source": [
    "%%time\n",
    "# Heck of a lot faster the second time because of lazy evaluation\n",
    "dist_bad_df[:5, :].compute()"
   ]
  },
  {
   "cell_type": "code",
   "execution_count": 12,
   "metadata": {},
   "outputs": [
    {
     "name": "stdout",
     "output_type": "stream",
     "text": [
      "CPU times: user 413 µs, sys: 1.11 ms, total: 1.52 ms\n",
      "Wall time: 2.68 ms\n"
     ]
    }
   ],
   "source": [
    "%%time\n",
    "# Ask dask to rebalance the data across worker nodes. This may do nothing, but we've also seen dask\n",
    "# make some very dump load balancing decisions (i.e. all data on one node) so we do this to be safe.\n",
    "client.rebalance(workers)"
   ]
  },
  {
   "cell_type": "code",
   "execution_count": 13,
   "metadata": {},
   "outputs": [
    {
     "data": {
      "text/plain": [
       "(3200000000, 6)"
      ]
     },
     "execution_count": 13,
     "metadata": {},
     "output_type": "execute_result"
    }
   ],
   "source": [
    "# Verify that the shape reported for our global dask array matches the shape of the array we originally loaded from disk locally\n",
    "\n",
    "dist_bad_df.shape"
   ]
  },
  {
   "cell_type": "code",
   "execution_count": 14,
   "metadata": {},
   "outputs": [],
   "source": [
    "# Necessary for KMeans to accept this array for clustering.\n",
    "\n",
    "dist_bad_df = dist_bad_df.rechunk((dist_bad_df.chunks[0], -1))"
   ]
  },
  {
   "cell_type": "code",
   "execution_count": 15,
   "metadata": {},
   "outputs": [
    {
     "data": {
      "text/plain": [
       "(6,)"
      ]
     },
     "execution_count": 15,
     "metadata": {},
     "output_type": "execute_result"
    }
   ],
   "source": [
    "dist_bad_df.chunks[1]"
   ]
  },
  {
   "cell_type": "code",
   "execution_count": null,
   "metadata": {},
   "outputs": [
    {
     "name": "stderr",
     "output_type": "stream",
     "text": [
      "repeat 0 took 684.982702255249 s\n",
      "repeat 1 took 654.6165082454681 s\n",
      "repeat 2 took 624.7370493412018 s\n"
     ]
    }
   ],
   "source": [
    "from dask_ml.cluster import KMeans\n",
    "import time\n",
    "import sys\n",
    "\n",
    "# Use Dask's distributed KMeans implementation to produce clusters (instead of sklearn's mini batch kmeans).\n",
    "#\n",
    "# Here we try the clustering 10 times with a different random seed each time, and then choose the best result.\n",
    "\n",
    "nrepeats = 5\n",
    "niters = 5\n",
    "models = []\n",
    "elapsed_times = []\n",
    "for r in range(nrepeats):\n",
    "    model = KMeans(n_clusters = 2, max_iter = niters, tol = 1e-30)\n",
    "    \n",
    "    start_time = time.time()\n",
    "    transformed = model.fit(dist_bad_df)\n",
    "    elapsed_time = time.time() - start_time\n",
    "\n",
    "    models.append(model)\n",
    "    elapsed_times.append(elapsed_time)\n",
    "    sys.stderr.write('repeat ' + str(r) + ' took ' + str(elapsed_time) + ' s\\n')\n",
    "\n",
    "elapsed_times"
   ]
  },
  {
   "cell_type": "code",
   "execution_count": 17,
   "metadata": {},
   "outputs": [
    {
     "name": "stdout",
     "output_type": "stream",
     "text": [
      "0 3 5\n",
      "1 3 5\n",
      "2 3 5\n",
      "3 3 5\n",
      "4 3 5\n"
     ]
    }
   ],
   "source": [
    "for m in range(len(models)):\n",
    "    if model.n_iter_ != niters:\n",
    "        print(m, model.n_iter_, niters)"
   ]
  },
  {
   "cell_type": "code",
   "execution_count": 25,
   "metadata": {},
   "outputs": [
    {
     "data": {
      "text/plain": [
       "(2535.6976708889006, 1029.9860525131226)"
      ]
     },
     "execution_count": 25,
     "metadata": {},
     "output_type": "execute_result"
    }
   ],
   "source": [
    "sum(elapsed_times) / len(elapsed_times), min(elapsed_times)"
   ]
  },
  {
   "cell_type": "code",
   "execution_count": 23,
   "metadata": {},
   "outputs": [
    {
     "name": "stdout",
     "output_type": "stream",
     "text": [
      "CPU times: user 8.92 s, sys: 17.8 s, total: 26.8 s\n",
      "Wall time: 53.3 s\n"
     ]
    }
   ],
   "source": [
    "%%time\n",
    "local_df = dist_bad_df.compute()"
   ]
  },
  {
   "cell_type": "code",
   "execution_count": 24,
   "metadata": {},
   "outputs": [],
   "source": [
    "client.close()"
   ]
  },
  {
   "cell_type": "code",
   "execution_count": null,
   "metadata": {},
   "outputs": [],
   "source": [
    "from sklearn.cluster import KMeans\n",
    "\n",
    "models = []\n",
    "elapsed_times = []\n",
    "for r in range(nrepeats):\n",
    "    model = KMeans(n_clusters = 2, max_iter = niters + 1, tol = 1e-30, n_init = 1)\n",
    "    \n",
    "    start_time = time.time()\n",
    "    transformed = model.fit(local_df)\n",
    "    elapsed_time = time.time() - start_time\n",
    "    \n",
    "    models.append(model)\n",
    "    elapsed_times.append(elapsed_time)\n",
    "\n",
    "elapsed_times"
   ]
  },
  {
   "cell_type": "code",
   "execution_count": 1,
   "metadata": {},
   "outputs": [
    {
     "ename": "NameError",
     "evalue": "name 'models' is not defined",
     "output_type": "error",
     "traceback": [
      "\u001b[0;31m\u001b[0m",
      "\u001b[0;31mNameError\u001b[0mTraceback (most recent call last)",
      "\u001b[0;32m<ipython-input-1-3de8d7eb1d02>\u001b[0m in \u001b[0;36m<module>\u001b[0;34m()\u001b[0m\n\u001b[0;32m----> 1\u001b[0;31m \u001b[0;32mfor\u001b[0m \u001b[0mmodel\u001b[0m \u001b[0;32min\u001b[0m \u001b[0mmodels\u001b[0m\u001b[0;34m:\u001b[0m\u001b[0;34m\u001b[0m\u001b[0m\n\u001b[0m\u001b[1;32m      2\u001b[0m     \u001b[0;32massert\u001b[0m \u001b[0mmodel\u001b[0m\u001b[0;34m.\u001b[0m\u001b[0mn_iter_\u001b[0m \u001b[0;34m==\u001b[0m \u001b[0mniters\u001b[0m\u001b[0;34m,\u001b[0m \u001b[0;34m(\u001b[0m\u001b[0mmodel\u001b[0m\u001b[0;34m.\u001b[0m\u001b[0mn_iter_\u001b[0m\u001b[0;34m,\u001b[0m \u001b[0mniters\u001b[0m\u001b[0;34m)\u001b[0m\u001b[0;34m\u001b[0m\u001b[0m\n",
      "\u001b[0;31mNameError\u001b[0m: name 'models' is not defined"
     ]
    }
   ],
   "source": [
    "for model in models:\n",
    "    assert model.n_iter_ == niters, (model.n_iter_, niters)"
   ]
  },
  {
   "cell_type": "code",
   "execution_count": 26,
   "metadata": {},
   "outputs": [
    {
     "data": {
      "text/plain": [
       "229.99075269699097"
      ]
     },
     "execution_count": 26,
     "metadata": {},
     "output_type": "execute_result"
    }
   ],
   "source": [
    "sum(elapsed_times) / len(elapsed_times)"
   ]
  },
  {
   "cell_type": "code",
   "execution_count": null,
   "metadata": {},
   "outputs": [],
   "source": [
    "sum(elapsed_times) / len(elapsed_times)"
   ]
  },
  {
   "cell_type": "code",
   "execution_count": null,
   "metadata": {},
   "outputs": [],
   "source": []
  },
  {
   "cell_type": "markdown",
   "metadata": {},
   "source": [
    "### Looking at dask scaling on hpchw4831, hpchw4832, hpchw4833, hpchw4834\n",
    "\n",
    "|model   | # records     | clusters | repeats | iterations | machines | processes per machine | threads per process | elapsed time (s)   |\n",
    "|--------|---------------|----------|---------|------------|----------|-----------------------|---------------------|--------------------|\n",
    "|sklearn | 100,000,000   | 2        | 5       | 5          | 1        |                       |                     | 57.37087316513062  |\n",
    "|sklearn | 200,000,000   | 2        | 5       | 5          | 1        |                       |                     | 114.86511063575745 |\n",
    "|sklearn | 400,000,000   | 2        | 5       | 5          | 1        |                       |                     | 229.99075269699097 |\n",
    "|sklearn | 800,000,000   | 2        | 5       | 5          | 1        |                       |                     | OOM                |\n",
    "| |  |         |        |           |         |                       |                     |  |\n",
    "|dask    | 400,000,000   | 2        | 5       | 5          | 4        | 8                     | 3                   |    |\n",
    "|dask    | 800,000,000   | 2        | 5       | 5          | 4        | 8                     | 3                   |    |\n",
    "|dask    | 1,600,000,000 | 2        | 5       | 5          | 4        | 8                     | 3                   |    |\n",
    "| |  |         |        |           |         |                       |                     |  |\n",
    "|dask    | 800,000,000 | 2        | 5       | 5          | 2 (hpchw4831,2)               | 8                        | 3                  | 330.03280782699585 |\n",
    "|dask    | 800,000,000 | 2        | 5       | 5          | 4 (hpchw4831,2,3,4)           | 8                        | 3                  | 255.93871474266052 |\n",
    "|dask    | 800,000,000 | 2        | 5       | 5          | 6 (hpchw4831,2,3,4,5,6)       | 8                        | 3                  | 249.29323554039001 |\n",
    "|dask    | 800,000,000 | 2        | 5       | 5          | 8 (hpchw4831,2,3,4,5,6,7,8)   | 8                        | 3                  | 192.52172231674194 |\n",
    "| |  |         |        |           |         |                       |                     |  |\n",
    "|dask    | 1,600,000,000 | 2        | 5       | 5          | 2 (hpchw4831,2)               | 8                        | 3                  |  |\n",
    "|dask    | 1,600,000,000 | 2        | 5       | 5          | 4 (hpchw4831,2,3,4)           | 8                        | 3                  |  |\n",
    "|dask    | 1,600,000,000 | 2        | 5       | 5          | 6 (hpchw4831,2,3,4,5,6)       | 8                        | 3                  | 1120.9423038959503 |\n",
    "|dask    | 1,600,000,000 | 2        | 5       | 5          | 8 (hpchw4831,2,3,4,5,6,7,8)   | 8                        | 3                  | 313.1888620853424 |"
   ]
  },
  {
   "cell_type": "markdown",
   "metadata": {},
   "source": [
    "|model   | # records     | clusters | repeats | iterations | machines | processes per machine | threads per process | elapsed time (s)   |\n",
    "|--------|---------------|----------|---------|------------|----------|-----------------------|---------------------|--------------------|\n",
    "|sklearn | 100,000,000   | 2        | 5       | 5          | 1        |                       |                     | 57.37087316513062  |\n",
    "|sklearn | 200,000,000   | 2        | 5       | 5          | 1        |                       |                     | 114.86511063575745 |\n",
    "|sklearn | 400,000,000   | 2        | 5       | 5          | 1        |                       |                     | 229.99075269699097 |\n",
    "|sklearn | 800,000,000   | 2        | 5       | 5          | 1        |                       |                     | OOM                |\n",
    "| |  |         |        |           |         |                       |                     |  |\n",
    "|dask    | 100,000,000   | 2        | 5       | 5          | 2        | 2                     | 24                  | 123.81572861671448   |\n",
    "|dask    | 200,000,000   | 2        | 5       | 5          | 2        | 2                     | 24                  | 258.71336379051206 |\n",
    "| |  |         |        |           |         |                       |                     |  |\n",
    "|dask    | 100,000,000   | 2        | 5       | 5          | 4        | 2                     | 24                  | 86.6988452911377   |\n",
    "|dask    | 200,000,000   | 2        | 5       | 5          | 4        | 2                     | 24                  | 141.2972318649292  |\n",
    "| |  |         |        |           |         |                       |                     |  |\n",
    "|dask    | 100,000,000   | 2        | 5       | 5          | 6        | 2                     | 24                  | 72.81405272483826  |\n",
    "|dask    | 200,000,000   | 2        | 5       | 5          | 6        | 2                     | 24                  | 113.55892267227173 |\n",
    "|dask    | 400,000,000   | 2        | 5       | 5          | 6        | 2                     | 24                  | 218.94874792099    |\n",
    "|dask    | 800,000,000   | 2        | 5       | 5          | 6        | 2                     | 24                  | 371.98787117004395 |\n",
    "|dask    | 1,600,000,000 | 2        | 5       | 5          | 6        | 2                     | 24                  | 1161.7001044750214 |"
   ]
  },
  {
   "cell_type": "markdown",
   "metadata": {},
   "source": [
    "|model   | # records     | clusters | repeats | iterations | machines | processes per machine | threads per process | elapsed time (s)   |\n",
    "|--------|---------------|----------|---------|------------|----------|-----------------------|---------------------|--------------------|\n",
    "|dask    | 100,000,000   | 2        | 5       | 5          | 6        | 2                     | 24                  | 72.81405272483826  |\n",
    "|dask    | 200,000,000   | 2        | 5       | 5          | 6        | 2                     | 24                  | 113.55892267227173 |\n",
    "|dask    | 400,000,000   | 2        | 5       | 5          | 6        | 2                     | 24                  | 218.94874792099    |\n",
    "|dask    | 800,000,000   | 2        | 5       | 5          | 6        | 2                     | 24                  | 371.98787117004395 |\n",
    "|dask    | 1,600,000,000 | 2        | 5       | 5          | 6        | 2                     | 24                  | 1161.7001044750214 |\n",
    "| |  |         |        |           |         |                       |                     |  |\n",
    "|dask    | 100,000,000   | 2        | 5       | 5          | 6        | 4                     | 12                  | 74.7569028377533   |\n",
    "|dask    | 200,000,000   | 2        | 5       | 5          | 6        | 4                     | 12                  | 108.41277861595154 |\n",
    "|dask    | 400,000,000   | 2        | 5       | 5          | 6        | 4                     | 12                  | 155.05894827842712 |\n",
    "|dask    | 800,000,000   | 2        | 5       | 5          | 6        | 4                     | 12                  | 291.241627073288   |\n",
    "| |  |         |        |           |         |                       |                     |  |\n",
    "|dask    | 100,000,000   | 2        | 5       | 5          | 6        | 8                     | 6                   | 108.579838514328   |\n",
    "|dask    | 200,000,000   | 2        | 5       | 5          | 6        | 8                     | 6                   | 135.68784761428833 |\n",
    "|dask    | 400,000,000   | 2        | 5       | 5          | 6        | 8                     | 6                   | 187.0207820892334  |\n",
    "|dask    | 800,000,000   | 2        | 5       | 5          | 6        | 8                     | 6                   | 295.3570291996002  |\n",
    "|dask    | 1,600,000,000 | 2        | 5       | 5          | 6        | 8                     | 6                   | 615.1828716754914  |\n",
    "| |  |         |        |           |         |                       |                     |  |\n",
    "|dask    | 100,000,000   | 2        | 5       | 5          | 6        | 12                    | 4                   | 150.54672794342042 |\n",
    "|dask    | 200,000,000   | 2        | 5       | 5          | 6        | 12                    | 4                   | 177.17852234840393 |\n",
    "|dask    | 400,000,000   | 2        | 5       | 5          | 6        | 12                    | 4                   | 229.65289607048035 (lots of GC) |\n",
    "| |  |         |        |           |         |                       |                     |  |\n",
    "|dask    | 100,000,000   | 2        | 5       | 5          | 6        | 8                     | 1                   | 117.88140172958374 |"
   ]
  },
  {
   "cell_type": "markdown",
   "metadata": {},
   "source": [
    "|model   | # records     | clusters | repeats | iterations | machines | processes per machine | threads per process | elapsed time (s)   |\n",
    "|--------|---------------|----------|---------|------------|----------|-----------------------|---------------------|--------------------|\n",
    "|sklearn | 400,000,000   | 2        | 5       | 5          | 1        |                       |                     | 229.99075269699097 |\n",
    "|dask    | 400,000,000   | 2        | 5       | 5          | 2        | 8                     | 6                   | 264.53171052932737 |\n",
    "|dask    | 400,000,000   | 2        | 5       | 5          | 4        | 8                     | 6                   | 192.60448741912842 |\n",
    "|dask    | 400,000,000   | 2        | 5       | 5          | 6        | 8                     | 6                   | 187.0207820892334  |"
   ]
  },
  {
   "cell_type": "markdown",
   "metadata": {},
   "source": [
    "|model   | # records     | clusters | repeats | iterations | machines | processes per machine | threads per process | elapsed time (s)   |\n",
    "|--------|---------------|----------|---------|------------|----------|-----------------------|---------------------|--------------------|\n",
    "|dask    | 100,000,000   | 2        | 5       | 5          | 6        | 8                     | 6                   | 108.579838514328   |\n",
    "|dask    | 200,000,000   | 2        | 5       | 5          | 6        | 8                     | 6                   | 135.68784761428833 |\n",
    "|dask    | 400,000,000   | 2        | 5       | 5          | 6        | 8                     | 6                   | 187.0207820892334  |\n",
    "|dask    | 800,000,000   | 2        | 5       | 5          | 6        | 8                     | 6                   | 295.3570291996002  |\n",
    "|dask    | 1,600,000,000 | 2        | 5       | 5          | 6        | 8                     | 6                   | 615.1828716754914  |"
   ]
  },
  {
   "cell_type": "markdown",
   "metadata": {},
   "source": [
    "|model   | # records     | clusters | repeats | iterations | machines | processes per machine | threads per process | elapsed time (s)   |\n",
    "|--------|---------------|----------|---------|------------|----------|-----------------------|---------------------|--------------------|\n",
    "|dask    | 400,000,000   | 2        | 5       | 5          | 6        | 2                     | 12                  | 198.51 |\n",
    "|dask    | 400,000,000   | 2        | 5       | 5          | 6        | 4                     | 6                   | 185.04 |\n",
    "|dask    | 400,000,000   | 2        | 5       | 5          | 6        | 8                     | 3                   | 216.27  |\n",
    "|dask    | 400,000,000   | 2        | 5       | 5          | 6        | 12                    | 2                   | (lots of GC) 341.79 |\n",
    "|dask    | 400,000,000   | 2        | 5       | 5          | 6        | 24                    | 1                   | (lots of GC) 369.08 |"
   ]
  },
  {
   "cell_type": "code",
   "execution_count": 21,
   "metadata": {},
   "outputs": [
    {
     "data": {
      "text/plain": [
       "<matplotlib.axes._subplots.AxesSubplot at 0x7f8720bef668>"
      ]
     },
     "execution_count": 21,
     "metadata": {},
     "output_type": "execute_result"
    },
    {
     "data": {
      "image/png": "[encoded data removed]",
      "text/plain": [
       "<matplotlib.figure.Figure at 0x7f872056f128>"
      ]
     },
     "metadata": {},
     "output_type": "display_data"
    }
   ],
   "source": [
    "# Look at scaling as you increase the number of nodes\n",
    "\n",
    "scaling = pd.DataFrame([{'# nodes': 2, 'dask elapsed time': 264.53171052932737, 'sklearn elapsed time': 229.99075269699097},\n",
    "                        {'# nodes': 4, 'dask elapsed time': 192.60448741912842,  'sklearn elapsed time': 229.99075269699097},\n",
    "                        {'# nodes': 6, 'dask elapsed time': 187.0207820892334, 'sklearn elapsed time': 229.99075269699097}])\n",
    "scaling.plot(kind = 'line', figsize = (10, 5), x = '# nodes', y = ['dask elapsed time', 'sklearn elapsed time'])"
   ]
  },
  {
   "cell_type": "code",
   "execution_count": 23,
   "metadata": {},
   "outputs": [
    {
     "data": {
      "text/html": [
       "<div>\n",
       "<style>\n",
       "    .dataframe thead tr:only-child th {\n",
       "        text-align: right;\n",
       "    }\n",
       "\n",
       "    .dataframe thead th {\n",
       "        text-align: left;\n",
       "    }\n",
       "\n",
       "    .dataframe tbody tr th {\n",
       "        vertical-align: top;\n",
       "    }\n",
       "</style>\n",
       "<table border=\"1\" class=\"dataframe\">\n",
       "  <thead>\n",
       "    <tr style=\"text-align: right;\">\n",
       "      <th></th>\n",
       "      <th># nodes</th>\n",
       "      <th>dask elapsed time</th>\n",
       "      <th>sklearn elapsed time</th>\n",
       "    </tr>\n",
       "  </thead>\n",
       "  <tbody>\n",
       "    <tr>\n",
       "      <th>0</th>\n",
       "      <td>2</td>\n",
       "      <td>264.531711</td>\n",
       "      <td>229.990753</td>\n",
       "    </tr>\n",
       "    <tr>\n",
       "      <th>1</th>\n",
       "      <td>4</td>\n",
       "      <td>192.604487</td>\n",
       "      <td>229.990753</td>\n",
       "    </tr>\n",
       "    <tr>\n",
       "      <th>2</th>\n",
       "      <td>6</td>\n",
       "      <td>187.020782</td>\n",
       "      <td>229.990753</td>\n",
       "    </tr>\n",
       "  </tbody>\n",
       "</table>\n",
       "</div>"
      ],
      "text/plain": [
       "   # nodes  dask elapsed time  sklearn elapsed time\n",
       "0        2         264.531711            229.990753\n",
       "1        4         192.604487            229.990753\n",
       "2        6         187.020782            229.990753"
      ]
     },
     "execution_count": 23,
     "metadata": {},
     "output_type": "execute_result"
    }
   ],
   "source": [
    "scaling"
   ]
  },
  {
   "cell_type": "code",
   "execution_count": 25,
   "metadata": {},
   "outputs": [
    {
     "data": {
      "text/plain": [
       "<matplotlib.axes._subplots.AxesSubplot at 0x7f87208045c0>"
      ]
     },
     "execution_count": 25,
     "metadata": {},
     "output_type": "execute_result"
    },
    {
     "data": {
      "image/png": "[encoded data removed]",
      "text/plain": [
       "<matplotlib.figure.Figure at 0x7f87206849b0>"
      ]
     },
     "metadata": {},
     "output_type": "display_data"
    }
   ],
   "source": [
    "# Look at scaling as you increase the dataset size\n",
    "\n",
    "scaling = pd.DataFrame([{'# records': 100000000, 'dask elapsed time': 108.579838514328},\n",
    "                        {'# records': 200000000, 'dask elapsed time': 135.68784761428833},\n",
    "                        {'# records': 400000000, 'dask elapsed time': 187.0207820892334},\n",
    "                        {'# records': 800000000, 'dask elapsed time': 295.3570291996002},\n",
    "                        {'# records': 1600000000, 'dask elapsed time': 615.1828716754914}])\n",
    "scaling.plot(kind = 'line', figsize = (10, 5), x = '# records', y = ['dask elapsed time'])"
   ]
  },
  {
   "cell_type": "code",
   "execution_count": 26,
   "metadata": {},
   "outputs": [
    {
     "data": {
      "text/html": [
       "<div>\n",
       "<style>\n",
       "    .dataframe thead tr:only-child th {\n",
       "        text-align: right;\n",
       "    }\n",
       "\n",
       "    .dataframe thead th {\n",
       "        text-align: left;\n",
       "    }\n",
       "\n",
       "    .dataframe tbody tr th {\n",
       "        vertical-align: top;\n",
       "    }\n",
       "</style>\n",
       "<table border=\"1\" class=\"dataframe\">\n",
       "  <thead>\n",
       "    <tr style=\"text-align: right;\">\n",
       "      <th></th>\n",
       "      <th># records</th>\n",
       "      <th>dask elapsed time</th>\n",
       "    </tr>\n",
       "  </thead>\n",
       "  <tbody>\n",
       "    <tr>\n",
       "      <th>0</th>\n",
       "      <td>100000000</td>\n",
       "      <td>108.579839</td>\n",
       "    </tr>\n",
       "    <tr>\n",
       "      <th>1</th>\n",
       "      <td>200000000</td>\n",
       "      <td>135.687848</td>\n",
       "    </tr>\n",
       "    <tr>\n",
       "      <th>2</th>\n",
       "      <td>400000000</td>\n",
       "      <td>187.020782</td>\n",
       "    </tr>\n",
       "    <tr>\n",
       "      <th>3</th>\n",
       "      <td>800000000</td>\n",
       "      <td>295.357029</td>\n",
       "    </tr>\n",
       "    <tr>\n",
       "      <th>4</th>\n",
       "      <td>1600000000</td>\n",
       "      <td>615.182872</td>\n",
       "    </tr>\n",
       "  </tbody>\n",
       "</table>\n",
       "</div>"
      ],
      "text/plain": [
       "    # records  dask elapsed time\n",
       "0   100000000         108.579839\n",
       "1   200000000         135.687848\n",
       "2   400000000         187.020782\n",
       "3   800000000         295.357029\n",
       "4  1600000000         615.182872"
      ]
     },
     "execution_count": 26,
     "metadata": {},
     "output_type": "execute_result"
    }
   ],
   "source": [
    "scaling"
   ]
  },
  {
   "cell_type": "code",
   "execution_count": null,
   "metadata": {},
   "outputs": [],
   "source": []
  }
 ],
 "metadata": {
  "kernelspec": {
   "display_name": "Python [conda env:dss-dask]",
   "language": "python",
   "name": "conda-env-dss-dask-py"
  },
  "language_info": {
   "codemirror_mode": {
    "name": "ipython",
    "version": 3
   },
   "file_extension": ".py",
   "mimetype": "text/x-python",
   "name": "python",
   "nbconvert_exporter": "python",
   "pygments_lexer": "ipython3",
   "version": "3.6.3"
  }
 },
 "nbformat": 4,
 "nbformat_minor": 2
}
