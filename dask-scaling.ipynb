{
 "cells": [
  {
   "cell_type": "code",
   "execution_count": 1,
   "metadata": {},
   "outputs": [],
   "source": [
    "%matplotlib inline\n",
    "import numpy as np\n",
    "import pandas as pd\n",
    "import matplotlib\n",
    "from dask.distributed import Client\n",
    "from dask.distributed import progress"
   ]
  },
  {
   "cell_type": "code",
   "execution_count": 2,
   "metadata": {},
   "outputs": [],
   "source": [
    "# bad_df_shape = (3847460917, 6)\n",
    "bad_df_shape =   (3200000000, 6)"
   ]
  },
  {
   "cell_type": "code",
   "execution_count": 3,
   "metadata": {},
   "outputs": [
    {
     "ename": "OSError",
     "evalue": "Timed out trying to connect to 'tcp://localhost:5555' after 10 s: in <distributed.comm.tcp.TCPConnector object at 0x113ae1630>: ConnectionRefusedError: [Errno 61] Connection refused",
     "output_type": "error",
     "traceback": [
      "\u001b[0;31m---------------------------------------------------------------------------\u001b[0m",
      "\u001b[0;31mTimeoutError\u001b[0m                              Traceback (most recent call last)",
      "\u001b[0;32m~/anaconda3/lib/python3.7/site-packages/distributed/comm/core.py\u001b[0m in \u001b[0;36mconnect\u001b[0;34m(addr, timeout, deserialize, connection_args)\u001b[0m\n\u001b[1;32m    189\u001b[0m                                           \u001b[0mfuture\u001b[0m\u001b[0;34m,\u001b[0m\u001b[0;34m\u001b[0m\u001b[0;34m\u001b[0m\u001b[0m\n\u001b[0;32m--> 190\u001b[0;31m                                           quiet_exceptions=EnvironmentError)\n\u001b[0m\u001b[1;32m    191\u001b[0m         \u001b[0;32mexcept\u001b[0m \u001b[0mFatalCommClosedError\u001b[0m\u001b[0;34m:\u001b[0m\u001b[0;34m\u001b[0m\u001b[0;34m\u001b[0m\u001b[0m\n",
      "\u001b[0;32m~/anaconda3/lib/python3.7/site-packages/tornado/gen.py\u001b[0m in \u001b[0;36mrun\u001b[0;34m(self)\u001b[0m\n\u001b[1;32m   1132\u001b[0m                     \u001b[0;32mtry\u001b[0m\u001b[0;34m:\u001b[0m\u001b[0;34m\u001b[0m\u001b[0;34m\u001b[0m\u001b[0m\n\u001b[0;32m-> 1133\u001b[0;31m                         \u001b[0mvalue\u001b[0m \u001b[0;34m=\u001b[0m \u001b[0mfuture\u001b[0m\u001b[0;34m.\u001b[0m\u001b[0mresult\u001b[0m\u001b[0;34m(\u001b[0m\u001b[0;34m)\u001b[0m\u001b[0;34m\u001b[0m\u001b[0;34m\u001b[0m\u001b[0m\n\u001b[0m\u001b[1;32m   1134\u001b[0m                     \u001b[0;32mexcept\u001b[0m \u001b[0mException\u001b[0m\u001b[0;34m:\u001b[0m\u001b[0;34m\u001b[0m\u001b[0;34m\u001b[0m\u001b[0m\n",
      "\u001b[0;31mTimeoutError\u001b[0m: Timeout",
      "\nDuring handling of the above exception, another exception occurred:\n",
      "\u001b[0;31mOSError\u001b[0m                                   Traceback (most recent call last)",
      "\u001b[0;32m<ipython-input-3-7d768d40f6b7>\u001b[0m in \u001b[0;36m<module>\u001b[0;34m\u001b[0m\n\u001b[1;32m      4\u001b[0m \u001b[0;31m# Create a connection to the Dask cluster. The dask-scheduler must be running on\u001b[0m\u001b[0;34m\u001b[0m\u001b[0;34m\u001b[0m\u001b[0;34m\u001b[0m\u001b[0m\n\u001b[1;32m      5\u001b[0m \u001b[0;31m# the same machine as this notebook and listening for inbound clients at port 5555.\u001b[0m\u001b[0;34m\u001b[0m\u001b[0;34m\u001b[0m\u001b[0;34m\u001b[0m\u001b[0m\n\u001b[0;32m----> 6\u001b[0;31m \u001b[0mclient\u001b[0m \u001b[0;34m=\u001b[0m \u001b[0mClient\u001b[0m\u001b[0;34m(\u001b[0m\u001b[0;34m'localhost:5555'\u001b[0m\u001b[0;34m)\u001b[0m\u001b[0;34m\u001b[0m\u001b[0;34m\u001b[0m\u001b[0m\n\u001b[0m",
      "\u001b[0;32m~/anaconda3/lib/python3.7/site-packages/distributed/client.py\u001b[0m in \u001b[0;36m__init__\u001b[0;34m(self, address, loop, timeout, set_as_default, scheduler_file, security, asynchronous, name, heartbeat_interval, serializers, deserializers, extensions, direct_to_workers, **kwargs)\u001b[0m\n\u001b[1;32m    634\u001b[0m             \u001b[0mext\u001b[0m\u001b[0;34m(\u001b[0m\u001b[0mself\u001b[0m\u001b[0;34m)\u001b[0m\u001b[0;34m\u001b[0m\u001b[0;34m\u001b[0m\u001b[0m\n\u001b[1;32m    635\u001b[0m \u001b[0;34m\u001b[0m\u001b[0m\n\u001b[0;32m--> 636\u001b[0;31m         \u001b[0mself\u001b[0m\u001b[0;34m.\u001b[0m\u001b[0mstart\u001b[0m\u001b[0;34m(\u001b[0m\u001b[0mtimeout\u001b[0m\u001b[0;34m=\u001b[0m\u001b[0mtimeout\u001b[0m\u001b[0;34m)\u001b[0m\u001b[0;34m\u001b[0m\u001b[0;34m\u001b[0m\u001b[0m\n\u001b[0m\u001b[1;32m    637\u001b[0m \u001b[0;34m\u001b[0m\u001b[0m\n\u001b[1;32m    638\u001b[0m         \u001b[0;32mfrom\u001b[0m \u001b[0mdistributed\u001b[0m\u001b[0;34m.\u001b[0m\u001b[0mrecreate_exceptions\u001b[0m \u001b[0;32mimport\u001b[0m \u001b[0mReplayExceptionClient\u001b[0m\u001b[0;34m\u001b[0m\u001b[0;34m\u001b[0m\u001b[0m\n",
      "\u001b[0;32m~/anaconda3/lib/python3.7/site-packages/distributed/client.py\u001b[0m in \u001b[0;36mstart\u001b[0;34m(self, **kwargs)\u001b[0m\n\u001b[1;32m    757\u001b[0m             \u001b[0mself\u001b[0m\u001b[0;34m.\u001b[0m\u001b[0m_started\u001b[0m \u001b[0;34m=\u001b[0m \u001b[0mself\u001b[0m\u001b[0;34m.\u001b[0m\u001b[0m_start\u001b[0m\u001b[0;34m(\u001b[0m\u001b[0;34m**\u001b[0m\u001b[0mkwargs\u001b[0m\u001b[0;34m)\u001b[0m\u001b[0;34m\u001b[0m\u001b[0;34m\u001b[0m\u001b[0m\n\u001b[1;32m    758\u001b[0m         \u001b[0;32melse\u001b[0m\u001b[0;34m:\u001b[0m\u001b[0;34m\u001b[0m\u001b[0;34m\u001b[0m\u001b[0m\n\u001b[0;32m--> 759\u001b[0;31m             \u001b[0msync\u001b[0m\u001b[0;34m(\u001b[0m\u001b[0mself\u001b[0m\u001b[0;34m.\u001b[0m\u001b[0mloop\u001b[0m\u001b[0;34m,\u001b[0m \u001b[0mself\u001b[0m\u001b[0;34m.\u001b[0m\u001b[0m_start\u001b[0m\u001b[0;34m,\u001b[0m \u001b[0;34m**\u001b[0m\u001b[0mkwargs\u001b[0m\u001b[0;34m)\u001b[0m\u001b[0;34m\u001b[0m\u001b[0;34m\u001b[0m\u001b[0m\n\u001b[0m\u001b[1;32m    760\u001b[0m \u001b[0;34m\u001b[0m\u001b[0m\n\u001b[1;32m    761\u001b[0m     \u001b[0;32mdef\u001b[0m \u001b[0m__await__\u001b[0m\u001b[0;34m(\u001b[0m\u001b[0mself\u001b[0m\u001b[0;34m)\u001b[0m\u001b[0;34m:\u001b[0m\u001b[0;34m\u001b[0m\u001b[0;34m\u001b[0m\u001b[0m\n",
      "\u001b[0;32m~/anaconda3/lib/python3.7/site-packages/distributed/utils.py\u001b[0m in \u001b[0;36msync\u001b[0;34m(loop, func, *args, **kwargs)\u001b[0m\n\u001b[1;32m    275\u001b[0m             \u001b[0me\u001b[0m\u001b[0;34m.\u001b[0m\u001b[0mwait\u001b[0m\u001b[0;34m(\u001b[0m\u001b[0;36m10\u001b[0m\u001b[0;34m)\u001b[0m\u001b[0;34m\u001b[0m\u001b[0;34m\u001b[0m\u001b[0m\n\u001b[1;32m    276\u001b[0m     \u001b[0;32mif\u001b[0m \u001b[0merror\u001b[0m\u001b[0;34m[\u001b[0m\u001b[0;36m0\u001b[0m\u001b[0;34m]\u001b[0m\u001b[0;34m:\u001b[0m\u001b[0;34m\u001b[0m\u001b[0;34m\u001b[0m\u001b[0m\n\u001b[0;32m--> 277\u001b[0;31m         \u001b[0msix\u001b[0m\u001b[0;34m.\u001b[0m\u001b[0mreraise\u001b[0m\u001b[0;34m(\u001b[0m\u001b[0;34m*\u001b[0m\u001b[0merror\u001b[0m\u001b[0;34m[\u001b[0m\u001b[0;36m0\u001b[0m\u001b[0;34m]\u001b[0m\u001b[0;34m)\u001b[0m\u001b[0;34m\u001b[0m\u001b[0;34m\u001b[0m\u001b[0m\n\u001b[0m\u001b[1;32m    278\u001b[0m     \u001b[0;32melse\u001b[0m\u001b[0;34m:\u001b[0m\u001b[0;34m\u001b[0m\u001b[0;34m\u001b[0m\u001b[0m\n\u001b[1;32m    279\u001b[0m         \u001b[0;32mreturn\u001b[0m \u001b[0mresult\u001b[0m\u001b[0;34m[\u001b[0m\u001b[0;36m0\u001b[0m\u001b[0;34m]\u001b[0m\u001b[0;34m\u001b[0m\u001b[0;34m\u001b[0m\u001b[0m\n",
      "\u001b[0;32m~/anaconda3/lib/python3.7/site-packages/six.py\u001b[0m in \u001b[0;36mreraise\u001b[0;34m(tp, value, tb)\u001b[0m\n\u001b[1;32m    691\u001b[0m             \u001b[0;32mif\u001b[0m \u001b[0mvalue\u001b[0m\u001b[0;34m.\u001b[0m\u001b[0m__traceback__\u001b[0m \u001b[0;32mis\u001b[0m \u001b[0;32mnot\u001b[0m \u001b[0mtb\u001b[0m\u001b[0;34m:\u001b[0m\u001b[0;34m\u001b[0m\u001b[0;34m\u001b[0m\u001b[0m\n\u001b[1;32m    692\u001b[0m                 \u001b[0;32mraise\u001b[0m \u001b[0mvalue\u001b[0m\u001b[0;34m.\u001b[0m\u001b[0mwith_traceback\u001b[0m\u001b[0;34m(\u001b[0m\u001b[0mtb\u001b[0m\u001b[0;34m)\u001b[0m\u001b[0;34m\u001b[0m\u001b[0;34m\u001b[0m\u001b[0m\n\u001b[0;32m--> 693\u001b[0;31m             \u001b[0;32mraise\u001b[0m \u001b[0mvalue\u001b[0m\u001b[0;34m\u001b[0m\u001b[0;34m\u001b[0m\u001b[0m\n\u001b[0m\u001b[1;32m    694\u001b[0m         \u001b[0;32mfinally\u001b[0m\u001b[0;34m:\u001b[0m\u001b[0;34m\u001b[0m\u001b[0;34m\u001b[0m\u001b[0m\n\u001b[1;32m    695\u001b[0m             \u001b[0mvalue\u001b[0m \u001b[0;34m=\u001b[0m \u001b[0;32mNone\u001b[0m\u001b[0;34m\u001b[0m\u001b[0;34m\u001b[0m\u001b[0m\n",
      "\u001b[0;32m~/anaconda3/lib/python3.7/site-packages/distributed/utils.py\u001b[0m in \u001b[0;36mf\u001b[0;34m()\u001b[0m\n\u001b[1;32m    260\u001b[0m             \u001b[0;32mif\u001b[0m \u001b[0mtimeout\u001b[0m \u001b[0;32mis\u001b[0m \u001b[0;32mnot\u001b[0m \u001b[0;32mNone\u001b[0m\u001b[0;34m:\u001b[0m\u001b[0;34m\u001b[0m\u001b[0;34m\u001b[0m\u001b[0m\n\u001b[1;32m    261\u001b[0m                 \u001b[0mfuture\u001b[0m \u001b[0;34m=\u001b[0m \u001b[0mgen\u001b[0m\u001b[0;34m.\u001b[0m\u001b[0mwith_timeout\u001b[0m\u001b[0;34m(\u001b[0m\u001b[0mtimedelta\u001b[0m\u001b[0;34m(\u001b[0m\u001b[0mseconds\u001b[0m\u001b[0;34m=\u001b[0m\u001b[0mtimeout\u001b[0m\u001b[0;34m)\u001b[0m\u001b[0;34m,\u001b[0m \u001b[0mfuture\u001b[0m\u001b[0;34m)\u001b[0m\u001b[0;34m\u001b[0m\u001b[0;34m\u001b[0m\u001b[0m\n\u001b[0;32m--> 262\u001b[0;31m             \u001b[0mresult\u001b[0m\u001b[0;34m[\u001b[0m\u001b[0;36m0\u001b[0m\u001b[0;34m]\u001b[0m \u001b[0;34m=\u001b[0m \u001b[0;32myield\u001b[0m \u001b[0mfuture\u001b[0m\u001b[0;34m\u001b[0m\u001b[0;34m\u001b[0m\u001b[0m\n\u001b[0m\u001b[1;32m    263\u001b[0m         \u001b[0;32mexcept\u001b[0m \u001b[0mException\u001b[0m \u001b[0;32mas\u001b[0m \u001b[0mexc\u001b[0m\u001b[0;34m:\u001b[0m\u001b[0;34m\u001b[0m\u001b[0;34m\u001b[0m\u001b[0m\n\u001b[1;32m    264\u001b[0m             \u001b[0merror\u001b[0m\u001b[0;34m[\u001b[0m\u001b[0;36m0\u001b[0m\u001b[0;34m]\u001b[0m \u001b[0;34m=\u001b[0m \u001b[0msys\u001b[0m\u001b[0;34m.\u001b[0m\u001b[0mexc_info\u001b[0m\u001b[0;34m(\u001b[0m\u001b[0;34m)\u001b[0m\u001b[0;34m\u001b[0m\u001b[0;34m\u001b[0m\u001b[0m\n",
      "\u001b[0;32m~/anaconda3/lib/python3.7/site-packages/tornado/gen.py\u001b[0m in \u001b[0;36mrun\u001b[0;34m(self)\u001b[0m\n\u001b[1;32m   1131\u001b[0m \u001b[0;34m\u001b[0m\u001b[0m\n\u001b[1;32m   1132\u001b[0m                     \u001b[0;32mtry\u001b[0m\u001b[0;34m:\u001b[0m\u001b[0;34m\u001b[0m\u001b[0;34m\u001b[0m\u001b[0m\n\u001b[0;32m-> 1133\u001b[0;31m                         \u001b[0mvalue\u001b[0m \u001b[0;34m=\u001b[0m \u001b[0mfuture\u001b[0m\u001b[0;34m.\u001b[0m\u001b[0mresult\u001b[0m\u001b[0;34m(\u001b[0m\u001b[0;34m)\u001b[0m\u001b[0;34m\u001b[0m\u001b[0;34m\u001b[0m\u001b[0m\n\u001b[0m\u001b[1;32m   1134\u001b[0m                     \u001b[0;32mexcept\u001b[0m \u001b[0mException\u001b[0m\u001b[0;34m:\u001b[0m\u001b[0;34m\u001b[0m\u001b[0;34m\u001b[0m\u001b[0m\n\u001b[1;32m   1135\u001b[0m                         \u001b[0mself\u001b[0m\u001b[0;34m.\u001b[0m\u001b[0mhad_exception\u001b[0m \u001b[0;34m=\u001b[0m \u001b[0;32mTrue\u001b[0m\u001b[0;34m\u001b[0m\u001b[0;34m\u001b[0m\u001b[0m\n",
      "\u001b[0;32m~/anaconda3/lib/python3.7/site-packages/tornado/gen.py\u001b[0m in \u001b[0;36mrun\u001b[0;34m(self)\u001b[0m\n\u001b[1;32m   1139\u001b[0m                     \u001b[0;32mif\u001b[0m \u001b[0mexc_info\u001b[0m \u001b[0;32mis\u001b[0m \u001b[0;32mnot\u001b[0m \u001b[0;32mNone\u001b[0m\u001b[0;34m:\u001b[0m\u001b[0;34m\u001b[0m\u001b[0;34m\u001b[0m\u001b[0m\n\u001b[1;32m   1140\u001b[0m                         \u001b[0;32mtry\u001b[0m\u001b[0;34m:\u001b[0m\u001b[0;34m\u001b[0m\u001b[0;34m\u001b[0m\u001b[0m\n\u001b[0;32m-> 1141\u001b[0;31m                             \u001b[0myielded\u001b[0m \u001b[0;34m=\u001b[0m \u001b[0mself\u001b[0m\u001b[0;34m.\u001b[0m\u001b[0mgen\u001b[0m\u001b[0;34m.\u001b[0m\u001b[0mthrow\u001b[0m\u001b[0;34m(\u001b[0m\u001b[0;34m*\u001b[0m\u001b[0mexc_info\u001b[0m\u001b[0;34m)\u001b[0m\u001b[0;34m\u001b[0m\u001b[0;34m\u001b[0m\u001b[0m\n\u001b[0m\u001b[1;32m   1142\u001b[0m                         \u001b[0;32mfinally\u001b[0m\u001b[0;34m:\u001b[0m\u001b[0;34m\u001b[0m\u001b[0;34m\u001b[0m\u001b[0m\n\u001b[1;32m   1143\u001b[0m                             \u001b[0;31m# Break up a reference to itself\u001b[0m\u001b[0;34m\u001b[0m\u001b[0;34m\u001b[0m\u001b[0;34m\u001b[0m\u001b[0m\n",
      "\u001b[0;32m~/anaconda3/lib/python3.7/site-packages/distributed/client.py\u001b[0m in \u001b[0;36m_start\u001b[0;34m(self, timeout, **kwargs)\u001b[0m\n\u001b[1;32m    845\u001b[0m         \u001b[0mself\u001b[0m\u001b[0;34m.\u001b[0m\u001b[0mscheduler_comm\u001b[0m \u001b[0;34m=\u001b[0m \u001b[0;32mNone\u001b[0m\u001b[0;34m\u001b[0m\u001b[0;34m\u001b[0m\u001b[0m\n\u001b[1;32m    846\u001b[0m \u001b[0;34m\u001b[0m\u001b[0m\n\u001b[0;32m--> 847\u001b[0;31m         \u001b[0;32myield\u001b[0m \u001b[0mself\u001b[0m\u001b[0;34m.\u001b[0m\u001b[0m_ensure_connected\u001b[0m\u001b[0;34m(\u001b[0m\u001b[0mtimeout\u001b[0m\u001b[0;34m=\u001b[0m\u001b[0mtimeout\u001b[0m\u001b[0;34m)\u001b[0m\u001b[0;34m\u001b[0m\u001b[0;34m\u001b[0m\u001b[0m\n\u001b[0m\u001b[1;32m    848\u001b[0m \u001b[0;34m\u001b[0m\u001b[0m\n\u001b[1;32m    849\u001b[0m         \u001b[0;32mfor\u001b[0m \u001b[0mpc\u001b[0m \u001b[0;32min\u001b[0m \u001b[0mself\u001b[0m\u001b[0;34m.\u001b[0m\u001b[0m_periodic_callbacks\u001b[0m\u001b[0;34m.\u001b[0m\u001b[0mvalues\u001b[0m\u001b[0;34m(\u001b[0m\u001b[0;34m)\u001b[0m\u001b[0;34m:\u001b[0m\u001b[0;34m\u001b[0m\u001b[0;34m\u001b[0m\u001b[0m\n",
      "\u001b[0;32m~/anaconda3/lib/python3.7/site-packages/tornado/gen.py\u001b[0m in \u001b[0;36mrun\u001b[0;34m(self)\u001b[0m\n\u001b[1;32m   1131\u001b[0m \u001b[0;34m\u001b[0m\u001b[0m\n\u001b[1;32m   1132\u001b[0m                     \u001b[0;32mtry\u001b[0m\u001b[0;34m:\u001b[0m\u001b[0;34m\u001b[0m\u001b[0;34m\u001b[0m\u001b[0m\n\u001b[0;32m-> 1133\u001b[0;31m                         \u001b[0mvalue\u001b[0m \u001b[0;34m=\u001b[0m \u001b[0mfuture\u001b[0m\u001b[0;34m.\u001b[0m\u001b[0mresult\u001b[0m\u001b[0;34m(\u001b[0m\u001b[0;34m)\u001b[0m\u001b[0;34m\u001b[0m\u001b[0;34m\u001b[0m\u001b[0m\n\u001b[0m\u001b[1;32m   1134\u001b[0m                     \u001b[0;32mexcept\u001b[0m \u001b[0mException\u001b[0m\u001b[0;34m:\u001b[0m\u001b[0;34m\u001b[0m\u001b[0;34m\u001b[0m\u001b[0m\n\u001b[1;32m   1135\u001b[0m                         \u001b[0mself\u001b[0m\u001b[0;34m.\u001b[0m\u001b[0mhad_exception\u001b[0m \u001b[0;34m=\u001b[0m \u001b[0;32mTrue\u001b[0m\u001b[0;34m\u001b[0m\u001b[0;34m\u001b[0m\u001b[0m\n",
      "\u001b[0;32m~/anaconda3/lib/python3.7/site-packages/tornado/gen.py\u001b[0m in \u001b[0;36mrun\u001b[0;34m(self)\u001b[0m\n\u001b[1;32m   1139\u001b[0m                     \u001b[0;32mif\u001b[0m \u001b[0mexc_info\u001b[0m \u001b[0;32mis\u001b[0m \u001b[0;32mnot\u001b[0m \u001b[0;32mNone\u001b[0m\u001b[0;34m:\u001b[0m\u001b[0;34m\u001b[0m\u001b[0;34m\u001b[0m\u001b[0m\n\u001b[1;32m   1140\u001b[0m                         \u001b[0;32mtry\u001b[0m\u001b[0;34m:\u001b[0m\u001b[0;34m\u001b[0m\u001b[0;34m\u001b[0m\u001b[0m\n\u001b[0;32m-> 1141\u001b[0;31m                             \u001b[0myielded\u001b[0m \u001b[0;34m=\u001b[0m \u001b[0mself\u001b[0m\u001b[0;34m.\u001b[0m\u001b[0mgen\u001b[0m\u001b[0;34m.\u001b[0m\u001b[0mthrow\u001b[0m\u001b[0;34m(\u001b[0m\u001b[0;34m*\u001b[0m\u001b[0mexc_info\u001b[0m\u001b[0;34m)\u001b[0m\u001b[0;34m\u001b[0m\u001b[0;34m\u001b[0m\u001b[0m\n\u001b[0m\u001b[1;32m   1142\u001b[0m                         \u001b[0;32mfinally\u001b[0m\u001b[0;34m:\u001b[0m\u001b[0;34m\u001b[0m\u001b[0;34m\u001b[0m\u001b[0m\n\u001b[1;32m   1143\u001b[0m                             \u001b[0;31m# Break up a reference to itself\u001b[0m\u001b[0;34m\u001b[0m\u001b[0;34m\u001b[0m\u001b[0;34m\u001b[0m\u001b[0m\n",
      "\u001b[0;32m~/anaconda3/lib/python3.7/site-packages/distributed/client.py\u001b[0m in \u001b[0;36m_ensure_connected\u001b[0;34m(self, timeout)\u001b[0m\n\u001b[1;32m    883\u001b[0m         \u001b[0;32mtry\u001b[0m\u001b[0;34m:\u001b[0m\u001b[0;34m\u001b[0m\u001b[0;34m\u001b[0m\u001b[0m\n\u001b[1;32m    884\u001b[0m             comm = yield connect(self.scheduler.address, timeout=timeout,\n\u001b[0;32m--> 885\u001b[0;31m                                  connection_args=self.connection_args)\n\u001b[0m\u001b[1;32m    886\u001b[0m             \u001b[0;32mif\u001b[0m \u001b[0mtimeout\u001b[0m \u001b[0;32mis\u001b[0m \u001b[0;32mnot\u001b[0m \u001b[0;32mNone\u001b[0m\u001b[0;34m:\u001b[0m\u001b[0;34m\u001b[0m\u001b[0;34m\u001b[0m\u001b[0m\n\u001b[1;32m    887\u001b[0m                 yield gen.with_timeout(timedelta(seconds=timeout),\n",
      "\u001b[0;32m~/anaconda3/lib/python3.7/site-packages/tornado/gen.py\u001b[0m in \u001b[0;36mrun\u001b[0;34m(self)\u001b[0m\n\u001b[1;32m   1131\u001b[0m \u001b[0;34m\u001b[0m\u001b[0m\n\u001b[1;32m   1132\u001b[0m                     \u001b[0;32mtry\u001b[0m\u001b[0;34m:\u001b[0m\u001b[0;34m\u001b[0m\u001b[0;34m\u001b[0m\u001b[0m\n\u001b[0;32m-> 1133\u001b[0;31m                         \u001b[0mvalue\u001b[0m \u001b[0;34m=\u001b[0m \u001b[0mfuture\u001b[0m\u001b[0;34m.\u001b[0m\u001b[0mresult\u001b[0m\u001b[0;34m(\u001b[0m\u001b[0;34m)\u001b[0m\u001b[0;34m\u001b[0m\u001b[0;34m\u001b[0m\u001b[0m\n\u001b[0m\u001b[1;32m   1134\u001b[0m                     \u001b[0;32mexcept\u001b[0m \u001b[0mException\u001b[0m\u001b[0;34m:\u001b[0m\u001b[0;34m\u001b[0m\u001b[0;34m\u001b[0m\u001b[0m\n\u001b[1;32m   1135\u001b[0m                         \u001b[0mself\u001b[0m\u001b[0;34m.\u001b[0m\u001b[0mhad_exception\u001b[0m \u001b[0;34m=\u001b[0m \u001b[0;32mTrue\u001b[0m\u001b[0;34m\u001b[0m\u001b[0;34m\u001b[0m\u001b[0m\n",
      "\u001b[0;32m~/anaconda3/lib/python3.7/site-packages/tornado/gen.py\u001b[0m in \u001b[0;36mrun\u001b[0;34m(self)\u001b[0m\n\u001b[1;32m   1139\u001b[0m                     \u001b[0;32mif\u001b[0m \u001b[0mexc_info\u001b[0m \u001b[0;32mis\u001b[0m \u001b[0;32mnot\u001b[0m \u001b[0;32mNone\u001b[0m\u001b[0;34m:\u001b[0m\u001b[0;34m\u001b[0m\u001b[0;34m\u001b[0m\u001b[0m\n\u001b[1;32m   1140\u001b[0m                         \u001b[0;32mtry\u001b[0m\u001b[0;34m:\u001b[0m\u001b[0;34m\u001b[0m\u001b[0;34m\u001b[0m\u001b[0m\n\u001b[0;32m-> 1141\u001b[0;31m                             \u001b[0myielded\u001b[0m \u001b[0;34m=\u001b[0m \u001b[0mself\u001b[0m\u001b[0;34m.\u001b[0m\u001b[0mgen\u001b[0m\u001b[0;34m.\u001b[0m\u001b[0mthrow\u001b[0m\u001b[0;34m(\u001b[0m\u001b[0;34m*\u001b[0m\u001b[0mexc_info\u001b[0m\u001b[0;34m)\u001b[0m\u001b[0;34m\u001b[0m\u001b[0;34m\u001b[0m\u001b[0m\n\u001b[0m\u001b[1;32m   1142\u001b[0m                         \u001b[0;32mfinally\u001b[0m\u001b[0;34m:\u001b[0m\u001b[0;34m\u001b[0m\u001b[0;34m\u001b[0m\u001b[0m\n\u001b[1;32m   1143\u001b[0m                             \u001b[0;31m# Break up a reference to itself\u001b[0m\u001b[0;34m\u001b[0m\u001b[0;34m\u001b[0m\u001b[0;34m\u001b[0m\u001b[0m\n",
      "\u001b[0;32m~/anaconda3/lib/python3.7/site-packages/distributed/comm/core.py\u001b[0m in \u001b[0;36mconnect\u001b[0;34m(addr, timeout, deserialize, connection_args)\u001b[0m\n\u001b[1;32m    199\u001b[0m                 \u001b[0m_raise\u001b[0m\u001b[0;34m(\u001b[0m\u001b[0merror\u001b[0m\u001b[0;34m)\u001b[0m\u001b[0;34m\u001b[0m\u001b[0;34m\u001b[0m\u001b[0m\n\u001b[1;32m    200\u001b[0m         \u001b[0;32mexcept\u001b[0m \u001b[0mgen\u001b[0m\u001b[0;34m.\u001b[0m\u001b[0mTimeoutError\u001b[0m\u001b[0;34m:\u001b[0m\u001b[0;34m\u001b[0m\u001b[0;34m\u001b[0m\u001b[0m\n\u001b[0;32m--> 201\u001b[0;31m             \u001b[0m_raise\u001b[0m\u001b[0;34m(\u001b[0m\u001b[0merror\u001b[0m\u001b[0;34m)\u001b[0m\u001b[0;34m\u001b[0m\u001b[0;34m\u001b[0m\u001b[0m\n\u001b[0m\u001b[1;32m    202\u001b[0m         \u001b[0;32melse\u001b[0m\u001b[0;34m:\u001b[0m\u001b[0;34m\u001b[0m\u001b[0;34m\u001b[0m\u001b[0m\n\u001b[1;32m    203\u001b[0m             \u001b[0;32mbreak\u001b[0m\u001b[0;34m\u001b[0m\u001b[0;34m\u001b[0m\u001b[0m\n",
      "\u001b[0;32m~/anaconda3/lib/python3.7/site-packages/distributed/comm/core.py\u001b[0m in \u001b[0;36m_raise\u001b[0;34m(error)\u001b[0m\n\u001b[1;32m    180\u001b[0m         msg = (\"Timed out trying to connect to %r after %s s: %s\"\n\u001b[1;32m    181\u001b[0m                % (addr, timeout, error))\n\u001b[0;32m--> 182\u001b[0;31m         \u001b[0;32mraise\u001b[0m \u001b[0mIOError\u001b[0m\u001b[0;34m(\u001b[0m\u001b[0mmsg\u001b[0m\u001b[0;34m)\u001b[0m\u001b[0;34m\u001b[0m\u001b[0;34m\u001b[0m\u001b[0m\n\u001b[0m\u001b[1;32m    183\u001b[0m \u001b[0;34m\u001b[0m\u001b[0m\n\u001b[1;32m    184\u001b[0m     \u001b[0;32mwhile\u001b[0m \u001b[0;32mTrue\u001b[0m\u001b[0;34m:\u001b[0m\u001b[0;34m\u001b[0m\u001b[0;34m\u001b[0m\u001b[0m\n",
      "\u001b[0;31mOSError\u001b[0m: Timed out trying to connect to 'tcp://localhost:5555' after 10 s: in <distributed.comm.tcp.TCPConnector object at 0x113ae1630>: ConnectionRefusedError: [Errno 61] Connection refused"
     ]
    }
   ],
   "source": [
    "from dask.distributed import Client\n",
    "from dask.distributed import progress\n",
    "\n",
    "# Create a connection to the Dask cluster. The dask-scheduler must be running on\n",
    "# the same machine as this notebook and listening for inbound clients at port 5555.\n",
    "client = Client('localhost:5555')"
   ]
  },
  {
   "cell_type": "code",
   "execution_count": null,
   "metadata": {},
   "outputs": [],
   "source": [
    "# Collect the descriptions of each worker (<host>:<port>) into a list. Print out how many workers we have.\n",
    "\n",
    "workers = [x[6:] for x in client.scheduler_info()['workers'].keys()]\n",
    "len(workers)"
   ]
  },
  {
   "cell_type": "code",
   "execution_count": null,
   "metadata": {},
   "outputs": [],
   "source": [
    "workers[:5]"
   ]
  },
  {
   "cell_type": "code",
   "execution_count": null,
   "metadata": {},
   "outputs": [],
   "source": [
    "rows_per_worker = int((bad_df_shape[0] + len(workers) - 1) / len(workers))\n",
    "rows_per_worker"
   ]
  },
  {
   "cell_type": "code",
   "execution_count": null,
   "metadata": {},
   "outputs": [],
   "source": [
    "import dask.array as da\n",
    "import dask\n",
    "\n",
    "def load_chunk_of_bad_data(nrecords):\n",
    "    return np.random.rand(nrecords, 6)\n",
    "\n",
    "chunks_per_worker = 10\n",
    "chunk_size = int(rows_per_worker / chunks_per_worker)\n",
    "\n",
    "all_delayed = []\n",
    "for w in range(len(workers)):\n",
    "    start_row = w * rows_per_worker\n",
    "    end_row = (w + 1) * rows_per_worker\n",
    "    if end_row > bad_df_shape[0]:\n",
    "        end_row = bad_df_shape[0]\n",
    "\n",
    "    worker = workers[w]\n",
    "    x = dask.delayed(load_chunk_of_bad_data)(end_row - start_row)\n",
    "    x = da.from_delayed(x, shape = (end_row - start_row, 6), dtype=float)\n",
    "    x = x.rechunk((chunk_size, -1))\n",
    "    all_delayed.append(x)"
   ]
  },
  {
   "cell_type": "code",
   "execution_count": null,
   "metadata": {},
   "outputs": [],
   "source": [
    "# Concatenate all of the arrays we just loaded individually on each worker into a single, logical, global array\n",
    "# so that we can operate on it as a single entity.\n",
    "\n",
    "dist_bad_df = da.concatenate(all_delayed, axis = 0)\n",
    "dist_bad_df = dist_bad_df.persist()\n",
    "dist_bad_df"
   ]
  },
  {
   "cell_type": "code",
   "execution_count": null,
   "metadata": {},
   "outputs": [],
   "source": [
    "%%time\n",
    "# Just to make sure everything worked, glance at the first 5 rows of our globally distributed array.\n",
    "dist_bad_df[:5, :].compute()"
   ]
  },
  {
   "cell_type": "code",
   "execution_count": null,
   "metadata": {},
   "outputs": [],
   "source": [
    "%%time\n",
    "# Heck of a lot faster the second time because of lazy evaluation\n",
    "dist_bad_df[:5, :].compute()"
   ]
  },
  {
   "cell_type": "code",
   "execution_count": null,
   "metadata": {},
   "outputs": [],
   "source": [
    "%%time\n",
    "# Ask dask to rebalance the data across worker nodes. This may do nothing, but we've also seen dask\n",
    "# make some very dump load balancing decisions (i.e. all data on one node) so we do this to be safe.\n",
    "client.rebalance(workers)"
   ]
  },
  {
   "cell_type": "code",
   "execution_count": null,
   "metadata": {},
   "outputs": [],
   "source": [
    "# Verify that the shape reported for our global dask array matches the shape of the array we originally loaded from disk locally\n",
    "\n",
    "dist_bad_df.shape"
   ]
  },
  {
   "cell_type": "code",
   "execution_count": null,
   "metadata": {},
   "outputs": [],
   "source": [
    "# Necessary for KMeans to accept this array for clustering.\n",
    "\n",
    "dist_bad_df = dist_bad_df.rechunk((dist_bad_df.chunks[0], -1))"
   ]
  },
  {
   "cell_type": "code",
   "execution_count": null,
   "metadata": {},
   "outputs": [],
   "source": [
    "dist_bad_df.chunks[1]"
   ]
  },
  {
   "cell_type": "code",
   "execution_count": null,
   "metadata": {},
   "outputs": [],
   "source": [
    "from dask_ml.cluster import KMeans\n",
    "import time\n",
    "import sys\n",
    "\n",
    "# Use Dask's distributed KMeans implementation to produce clusters (instead of sklearn's mini batch kmeans).\n",
    "#\n",
    "# Here we try the clustering 10 times with a different random seed each time, and then choose the best result.\n",
    "\n",
    "nrepeats = 5\n",
    "niters = 7\n",
    "models = []\n",
    "elapsed_times = []\n",
    "for r in range(nrepeats):\n",
    "    model = KMeans(n_clusters = 2, max_iter = niters, tol = 1e-30)\n",
    "    \n",
    "    start_time = time.time()\n",
    "    transformed = model.fit(dist_bad_df)\n",
    "    elapsed_time = time.time() - start_time\n",
    "\n",
    "    models.append(model)\n",
    "    elapsed_times.append(elapsed_time)\n",
    "    sys.stderr.write('repeat ' + str(r) + ' took ' + str(elapsed_time) + ' s\\n')\n",
    "\n",
    "elapsed_times"
   ]
  },
  {
   "cell_type": "code",
   "execution_count": null,
   "metadata": {},
   "outputs": [],
   "source": [
    "for m in range(len(models)):\n",
    "    if model.n_iter_ != niters:\n",
    "        print(m, model.n_iter_, niters)"
   ]
  },
  {
   "cell_type": "code",
   "execution_count": null,
   "metadata": {},
   "outputs": [],
   "source": [
    "print(sum(elapsed_times) / len(elapsed_times), min(elapsed_times))"
   ]
  },
  {
   "cell_type": "code",
   "execution_count": null,
   "metadata": {},
   "outputs": [],
   "source": [
    "%%time\n",
    "local_df = dist_bad_df.compute()"
   ]
  },
  {
   "cell_type": "code",
   "execution_count": null,
   "metadata": {},
   "outputs": [],
   "source": [
    "client.close()"
   ]
  },
  {
   "cell_type": "code",
   "execution_count": null,
   "metadata": {},
   "outputs": [],
   "source": [
    "from sklearn.cluster import KMeans\n",
    "\n",
    "models = []\n",
    "elapsed_times = []\n",
    "for r in range(nrepeats):\n",
    "    model = KMeans(n_clusters = 2, max_iter = niters + 1, tol = 1e-30, n_init = 1)\n",
    "    \n",
    "    start_time = time.time()\n",
    "    transformed = model.fit(local_df)\n",
    "    elapsed_time = time.time() - start_time\n",
    "    \n",
    "    models.append(model)\n",
    "    elapsed_times.append(elapsed_time)\n",
    "\n",
    "elapsed_times"
   ]
  },
  {
   "cell_type": "code",
   "execution_count": null,
   "metadata": {},
   "outputs": [],
   "source": [
    "for model in models:\n",
    "    assert model.n_iter_ == niters, (model.n_iter_, niters)"
   ]
  },
  {
   "cell_type": "code",
   "execution_count": null,
   "metadata": {},
   "outputs": [],
   "source": [
    "sum(elapsed_times) / len(elapsed_times)"
   ]
  },
  {
   "cell_type": "code",
   "execution_count": null,
   "metadata": {},
   "outputs": [],
   "source": [
    "sum(elapsed_times) / len(elapsed_times)"
   ]
  },
  {
   "cell_type": "markdown",
   "metadata": {},
   "source": [
    "### Looking at dask scaling on hpchw4831, hpchw4832, hpchw4833, hpchw4834\n",
    "\n",
    "|model   | # records     | clusters | repeats | iterations | machines | processes per machine | threads per process | elapsed time (s)   |\n",
    "|--------|---------------|----------|---------|------------|----------|-----------------------|---------------------|--------------------|\n",
    "|sklearn | 100,000,000   | 2        | 5       | 5          | 1        |                       |                     | 57.37087316513062  |\n",
    "|sklearn | 200,000,000   | 2        | 5       | 5          | 1        |                       |                     | 114.86511063575745 |\n",
    "|sklearn | 400,000,000   | 2        | 5       | 5          | 1        |                       |                     | 229.99075269699097 |\n",
    "|sklearn | 800,000,000   | 2        | 5       | 5          | 1        |                       |                     | OOM                |\n",
    "| |  |         |        |           |         |                       |                     |  |\n",
    "|dask    | 400,000,000   | 2        | 5       | 5          | 4        | 8                     | 3                   |    |\n",
    "|dask    | 800,000,000   | 2        | 5       | 5          | 4        | 8                     | 3                   |    |\n",
    "|dask    | 1,600,000,000 | 2        | 5       | 5          | 4        | 8                     | 3                   |    |\n",
    "| |  |         |        |           |         |                       |                     |  |\n",
    "|dask    | 800,000,000 | 2        | 5       | 5          | 2 (hpchw4831,2)               | 8                        | 3                  | 330.03280782699585 |\n",
    "|dask    | 800,000,000 | 2        | 5       | 5          | 4 (hpchw4831,2,3,4)           | 8                        | 3                  | 255.93871474266052 |\n",
    "|dask    | 800,000,000 | 2        | 5       | 5          | 6 (hpchw4831,2,3,4,5,6)       | 8                        | 3                  | 249.29323554039001 |\n",
    "|dask    | 800,000,000 | 2        | 5       | 5          | 8 (hpchw4831,2,3,4,5,6,7,8)   | 8                        | 3                  | 192.52172231674194 |\n",
    "| |  |         |        |           |         |                       |                     |  |\n",
    "|dask    | 1,600,000,000 | 2        | 5       | 5          | 2 (hpchw4831,2)               | 8                        | 3                  |  |\n",
    "|dask    | 1,600,000,000 | 2        | 5       | 5          | 4 (hpchw4831,2,3,4)           | 8                        | 3                  |  |\n",
    "|dask    | 1,600,000,000 | 2        | 5       | 5          | 6 (hpchw4831,2,3,4,5,6)       | 8                        | 3                  | 1120.9423038959503 |\n",
    "|dask    | 1,600,000,000 | 2        | 5       | 5          | 8 (hpchw4831,2,3,4,5,6,7,8)   | 8                        | 3                  | 313.1888620853424 |"
   ]
  },
  {
   "cell_type": "markdown",
   "metadata": {},
   "source": [
    "|model   | # records     | clusters | repeats | iterations | machines | processes per machine | threads per process | elapsed time (s)   |\n",
    "|--------|---------------|----------|---------|------------|----------|-----------------------|---------------------|--------------------|\n",
    "|sklearn | 100,000,000   | 2        | 5       | 5          | 1        |                       |                     | 57.37087316513062  |\n",
    "|sklearn | 200,000,000   | 2        | 5       | 5          | 1        |                       |                     | 114.86511063575745 |\n",
    "|sklearn | 400,000,000   | 2        | 5       | 5          | 1        |                       |                     | 229.99075269699097 |\n",
    "|sklearn | 800,000,000   | 2        | 5       | 5          | 1        |                       |                     | OOM                |\n",
    "| |  |         |        |           |         |                       |                     |  |\n",
    "|dask    | 100,000,000   | 2        | 5       | 5          | 2        | 2                     | 24                  | 123.81572861671448   |\n",
    "|dask    | 200,000,000   | 2        | 5       | 5          | 2        | 2                     | 24                  | 258.71336379051206 |\n",
    "| |  |         |        |           |         |                       |                     |  |\n",
    "|dask    | 100,000,000   | 2        | 5       | 5          | 4        | 2                     | 24                  | 86.6988452911377   |\n",
    "|dask    | 200,000,000   | 2        | 5       | 5          | 4        | 2                     | 24                  | 141.2972318649292  |\n",
    "| |  |         |        |           |         |                       |                     |  |\n",
    "|dask    | 100,000,000   | 2        | 5       | 5          | 6        | 2                     | 24                  | 72.81405272483826  |\n",
    "|dask    | 200,000,000   | 2        | 5       | 5          | 6        | 2                     | 24                  | 113.55892267227173 |\n",
    "|dask    | 400,000,000   | 2        | 5       | 5          | 6        | 2                     | 24                  | 218.94874792099    |\n",
    "|dask    | 800,000,000   | 2        | 5       | 5          | 6        | 2                     | 24                  | 371.98787117004395 |\n",
    "|dask    | 1,600,000,000 | 2        | 5       | 5          | 6        | 2                     | 24                  | 1161.7001044750214 |"
   ]
  },
  {
   "cell_type": "markdown",
   "metadata": {},
   "source": [
    "|model   | # records     | clusters | repeats | iterations | machines | processes per machine | threads per process | elapsed time (s)   |\n",
    "|--------|---------------|----------|---------|------------|----------|-----------------------|---------------------|--------------------|\n",
    "|dask    | 100,000,000   | 2        | 5       | 5          | 6        | 2                     | 24                  | 72.81405272483826  |\n",
    "|dask    | 200,000,000   | 2        | 5       | 5          | 6        | 2                     | 24                  | 113.55892267227173 |\n",
    "|dask    | 400,000,000   | 2        | 5       | 5          | 6        | 2                     | 24                  | 218.94874792099    |\n",
    "|dask    | 800,000,000   | 2        | 5       | 5          | 6        | 2                     | 24                  | 371.98787117004395 |\n",
    "|dask    | 1,600,000,000 | 2        | 5       | 5          | 6        | 2                     | 24                  | 1161.7001044750214 |\n",
    "| |  |         |        |           |         |                       |                     |  |\n",
    "|dask    | 100,000,000   | 2        | 5       | 5          | 6        | 4                     | 12                  | 74.7569028377533   |\n",
    "|dask    | 200,000,000   | 2        | 5       | 5          | 6        | 4                     | 12                  | 108.41277861595154 |\n",
    "|dask    | 400,000,000   | 2        | 5       | 5          | 6        | 4                     | 12                  | 155.05894827842712 |\n",
    "|dask    | 800,000,000   | 2        | 5       | 5          | 6        | 4                     | 12                  | 291.241627073288   |\n",
    "| |  |         |        |           |         |                       |                     |  |\n",
    "|dask    | 100,000,000   | 2        | 5       | 5          | 6        | 8                     | 6                   | 108.579838514328   |\n",
    "|dask    | 200,000,000   | 2        | 5       | 5          | 6        | 8                     | 6                   | 135.68784761428833 |\n",
    "|dask    | 400,000,000   | 2        | 5       | 5          | 6        | 8                     | 6                   | 187.0207820892334  |\n",
    "|dask    | 800,000,000   | 2        | 5       | 5          | 6        | 8                     | 6                   | 295.3570291996002  |\n",
    "|dask    | 1,600,000,000 | 2        | 5       | 5          | 6        | 8                     | 6                   | 615.1828716754914  |\n",
    "| |  |         |        |           |         |                       |                     |  |\n",
    "|dask    | 100,000,000   | 2        | 5       | 5          | 6        | 12                    | 4                   | 150.54672794342042 |\n",
    "|dask    | 200,000,000   | 2        | 5       | 5          | 6        | 12                    | 4                   | 177.17852234840393 |\n",
    "|dask    | 400,000,000   | 2        | 5       | 5          | 6        | 12                    | 4                   | 229.65289607048035 (lots of GC) |\n",
    "| |  |         |        |           |         |                       |                     |  |\n",
    "|dask    | 100,000,000   | 2        | 5       | 5          | 6        | 8                     | 1                   | 117.88140172958374 |"
   ]
  },
  {
   "cell_type": "markdown",
   "metadata": {},
   "source": [
    "|model   | # records     | clusters | repeats | iterations | machines | processes per machine | threads per process | elapsed time (s)   |\n",
    "|--------|---------------|----------|---------|------------|----------|-----------------------|---------------------|--------------------|\n",
    "|sklearn | 400,000,000   | 2        | 5       | 5          | 1        |                       |                     | 229.99075269699097 |\n",
    "|dask    | 400,000,000   | 2        | 5       | 5          | 2        | 8                     | 6                   | 264.53171052932737 |\n",
    "|dask    | 400,000,000   | 2        | 5       | 5          | 4        | 8                     | 6                   | 192.60448741912842 |\n",
    "|dask    | 400,000,000   | 2        | 5       | 5          | 6        | 8                     | 6                   | 187.0207820892334  |"
   ]
  },
  {
   "cell_type": "markdown",
   "metadata": {},
   "source": [
    "|model   | # records     | clusters | repeats | iterations | machines | processes per machine | threads per process | elapsed time (s)   |\n",
    "|--------|---------------|----------|---------|------------|----------|-----------------------|---------------------|--------------------|\n",
    "|dask    | 100,000,000   | 2        | 5       | 5          | 6        | 8                     | 6                   | 108.579838514328   |\n",
    "|dask    | 200,000,000   | 2        | 5       | 5          | 6        | 8                     | 6                   | 135.68784761428833 |\n",
    "|dask    | 400,000,000   | 2        | 5       | 5          | 6        | 8                     | 6                   | 187.0207820892334  |\n",
    "|dask    | 800,000,000   | 2        | 5       | 5          | 6        | 8                     | 6                   | 295.3570291996002  |\n",
    "|dask    | 1,600,000,000 | 2        | 5       | 5          | 6        | 8                     | 6                   | 615.1828716754914  |"
   ]
  },
  {
   "cell_type": "markdown",
   "metadata": {},
   "source": [
    "|model   | # records     | clusters | repeats | iterations | machines | processes per machine | threads per process | elapsed time (s)   |\n",
    "|--------|---------------|----------|---------|------------|----------|-----------------------|---------------------|--------------------|\n",
    "|dask    | 400,000,000   | 2        | 5       | 5          | 6        | 2                     | 12                  | 198.51 |\n",
    "|dask    | 400,000,000   | 2        | 5       | 5          | 6        | 4                     | 6                   | 185.04 |\n",
    "|dask    | 400,000,000   | 2        | 5       | 5          | 6        | 8                     | 3                   | 216.27  |\n",
    "|dask    | 400,000,000   | 2        | 5       | 5          | 6        | 12                    | 2                   | (lots of GC) 341.79 |\n",
    "|dask    | 400,000,000   | 2        | 5       | 5          | 6        | 24                    | 1                   | (lots of GC) 369.08 |"
   ]
  },
  {
   "cell_type": "code",
   "execution_count": null,
   "metadata": {},
   "outputs": [],
   "source": [
    "# Look at scaling as you increase the number of nodes\n",
    "\n",
    "scaling = pd.DataFrame([{'# nodes': 2, 'dask elapsed time': 264.53171052932737, 'sklearn elapsed time': 229.99075269699097},\n",
    "                        {'# nodes': 4, 'dask elapsed time': 192.60448741912842,  'sklearn elapsed time': 229.99075269699097},\n",
    "                        {'# nodes': 6, 'dask elapsed time': 187.0207820892334, 'sklearn elapsed time': 229.99075269699097}])\n",
    "scaling.plot(kind = 'line', figsize = (10, 5), x = '# nodes', y = ['dask elapsed time', 'sklearn elapsed time'])"
   ]
  },
  {
   "cell_type": "code",
   "execution_count": null,
   "metadata": {},
   "outputs": [],
   "source": [
    "scaling"
   ]
  },
  {
   "cell_type": "code",
   "execution_count": null,
   "metadata": {},
   "outputs": [],
   "source": [
    "# Look at scaling as you increase the dataset size\n",
    "\n",
    "scaling = pd.DataFrame([{'# records': 100000000, 'dask elapsed time': 108.579838514328},\n",
    "                        {'# records': 200000000, 'dask elapsed time': 135.68784761428833},\n",
    "                        {'# records': 400000000, 'dask elapsed time': 187.0207820892334},\n",
    "                        {'# records': 800000000, 'dask elapsed time': 295.3570291996002},\n",
    "                        {'# records': 1600000000, 'dask elapsed time': 615.1828716754914}])\n",
    "scaling.plot(kind = 'line', figsize = (10, 5), x = '# records', y = ['dask elapsed time'])"
   ]
  },
  {
   "cell_type": "code",
   "execution_count": null,
   "metadata": {},
   "outputs": [],
   "source": [
    "scaling"
   ]
  },
  {
   "cell_type": "code",
   "execution_count": null,
   "metadata": {},
   "outputs": [],
   "source": []
  }
 ],
 "metadata": {
  "kernelspec": {
   "display_name": "Python 3",
   "language": "python",
   "name": "python3"
  },
  "language_info": {
   "codemirror_mode": {
    "name": "ipython",
    "version": 3
   },
   "file_extension": ".py",
   "mimetype": "text/x-python",
   "name": "python",
   "nbconvert_exporter": "python",
   "pygments_lexer": "ipython3",
   "version": "3.7.1"
  }
 },
 "nbformat": 4,
 "nbformat_minor": 2
}
