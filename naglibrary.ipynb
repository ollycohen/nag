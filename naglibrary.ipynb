{
 "cells": [
  {
   "cell_type": "code",
   "execution_count": 14,
   "metadata": {},
   "outputs": [],
   "source": [
    "import naginterfaces.library as ni"
   ]
  },
  {
   "cell_type": "code",
   "execution_count": 1,
   "metadata": {},
   "outputs": [],
   "source": [
    "import naginterfaces.library.info as ni_info"
   ]
  },
  {
   "cell_type": "code",
   "execution_count": 2,
   "metadata": {},
   "outputs": [
    {
     "data": {
      "text/plain": [
       "{'title': 'Mac OS X, 64-bit, Intel C/C++ (64-bit integers)',\n",
       " 'integer_bits': 64,\n",
       " 'precision': 'double',\n",
       " 'product_code': 'CLMI6262DL',\n",
       " 'mark': (26, 2, 0),\n",
       " 'vendor_lib': 'MKL 2018.0.1',\n",
       " 'hardware': 'x86_64',\n",
       " 'os': 'Darwin 16.3.0',\n",
       " 'compilers': {'C': {'title': 'Intel icc Version 18.0.1.126 20171018',\n",
       "   'flags': '-O3 -axCORE-AVX2,AVX -no-fma -fp-model precise -fp-speculation=safe -fno-inline -fPIC -m64 -w -fexceptions'},\n",
       "  'C++': {'title': 'Intel icpc Version 18.0.1.126 20171018',\n",
       "   'flags': '-O3 -axCORE-AVX2,AVX -no-fma -fp-model precise -fp-speculation=safe -fno-inline -fPIC -m64 -w -fexceptions'},\n",
       "  'Fortran': {'title': 'Intel ifort Version 18.0.1.126 20171018',\n",
       "   'flags': '-O3 -axCORE-AVX2,AVX -no-fma -fp-model precise -fp-speculation=safe -auto -fPIC -threads -w -fexceptions -i8'}}}"
      ]
     },
     "execution_count": 2,
     "metadata": {},
     "output_type": "execute_result"
    }
   ],
   "source": [
    "ni_info.impl_details()"
   ]
  },
  {
   "cell_type": "code",
   "execution_count": 4,
   "metadata": {},
   "outputs": [
    {
     "data": {
      "text/plain": [
       "True"
      ]
     },
     "execution_count": 4,
     "metadata": {},
     "output_type": "execute_result"
    }
   ],
   "source": [
    "ni_info.licence()"
   ]
  },
  {
   "cell_type": "code",
   "execution_count": 7,
   "metadata": {},
   "outputs": [],
   "source": [
    "import naginterfaces.library.examples as ni_examples"
   ]
  },
  {
   "cell_type": "code",
   "execution_count": 13,
   "metadata": {},
   "outputs": [
    {
     "name": "stdout",
     "output_type": "stream",
     "text": [
      "#!/usr/bin/env python\n",
      "\"``naginterfaces.library.opt.bounds_bobyqa_func`` Python Example.\"\n",
      "\n",
      "# NAG Copyright 2017-2018.\n",
      "\n",
      "# pylint: disable=invalid-name\n",
      "\n",
      "def main():\n",
      "    \"\"\"\n",
      "    Example for :func:`naginterfaces.library.opt.bounds_bobyqa_func`.\n",
      "\n",
      "    Bound-constrained optimization by quadratic approximations.\n",
      "\n",
      "    Demonstrates terminating early in a callback function and\n",
      "    how to silence the subsequent ``NagCallbackTerminateWarning``.\n",
      "\n",
      "    >>> main()\n",
      "    naginterfaces.library.opt.bounds_bobyqa_func Python Example Results.\n",
      "    Minimizing by quadratic approximations.\n",
      "    New rho is 0.01000.\n",
      "    Current function value is 4.09399.\n",
      "    The corresponding x is (1.6011, -0.1036, 0.4511, 1.0233).\n",
      "    New rho is 0.00100.\n",
      "    Current function value is 2.43397.\n",
      "    The corresponding x is (1.0000, -0.0860, 0.4067, 1.0000).\n",
      "    New rho is 0.00010.\n",
      "    Current function value is 2.43379.\n",
      "    The corresponding x is (1.0000, -0.0852, 0.4093, 1.0000).\n",
      "    Terminating early because rho is small enough.\n",
      "    Function value at lowest point found is 2.43379.\n",
      "    The corresponding x is (1.0000, -0.0852, 0.4093, 1.0000).\n",
      "    \"\"\"\n",
      "\n",
      "    import warnings\n",
      "\n",
      "    from naginterfaces.library import opt\n",
      "    from naginterfaces.base import utils\n",
      "\n",
      "    print(\n",
      "        'naginterfaces.library.opt.bounds_bobyqa_func Python Example Results.'\n",
      "    )\n",
      "    print('Minimizing by quadratic approximations.')\n",
      "\n",
      "    # warnings.simplefilter can be used to silence warning messages\n",
      "    # because of user-requested termination in callback function:\n",
      "    warnings.simplefilter('ignore', utils.NagCallbackTerminateWarning)\n",
      "\n",
      "    def cb_mon_func(nf, x, f, rho):\n",
      "        'The monitoring function.'\n",
      "        print('New rho is {:.5f}.'.format(rho))\n",
      "        print('Current function value is {:.5f}.'.format(f))\n",
      "        print(\n",
      "            'The corresponding x is (' +\n",
      "            ', '.join(['{:.4f}']*len(x)).format(*x) +\n",
      "            ').'\n",
      "        )\n",
      "        if rho < 1e-3:\n",
      "            print('Terminating early because rho is small enough.')\n",
      "            raise utils.UserCallbackTerminate()\n",
      "\n",
      "    # The initial guess:\n",
      "    x = [3.0, -1.0, 0.0, 1.0]\n",
      "    # The objective function:\n",
      "    cb_obj_func = lambda x: (\n",
      "        (x[0] + 10*x[1])**2 +\n",
      "        5*(x[2] - x[3])**2 +\n",
      "        (x[1] - 2*x[2])**4 +\n",
      "        10*(x[0] - x[3])**4\n",
      "    )\n",
      "    # Input data:\n",
      "    npt = 2*len(x) + 1\n",
      "    # The bounds on x, with large entries in the third element\n",
      "    # to signify that x[2] is not bounded:\n",
      "    bl = [1.0, -2.0, -1e10, 1.0]\n",
      "    bu = [3.0, 0.0, 1e10, 3.0]\n",
      "    rhobeg = 1e-1\n",
      "    rhoend = 1e-6\n",
      "    maxcal = 500\n",
      "\n",
      "    x_min, f, _ = opt.bounds_bobyqa_func(\n",
      "        cb_obj_func, npt, x, bl, bu, rhobeg, rhoend, maxcal, cb_mon_func,\n",
      "    )\n",
      "\n",
      "    print('Function value at lowest point found is {:.5f}.'.format(f))\n",
      "    print(\n",
      "        'The corresponding x is (' +\n",
      "        ', '.join(['{:.4f}']*len(x_min)).format(*x_min) +\n",
      "        ').'\n",
      "    )\n",
      "\n",
      "if __name__ == '__main__':\n",
      "    import doctest\n",
      "    import sys\n",
      "    sys.exit(\n",
      "        doctest.testmod(\n",
      "            None, verbose=True, report=False,\n",
      "            optionflags=doctest.REPORT_NDIFF,\n",
      "        ).failed\n",
      "    )\n",
      "\n"
     ]
    },
    {
     "data": {
      "text/plain": [
       "'``naginterfaces.library.opt.bounds_bobyqa_func`` Python Example.'"
      ]
     },
     "execution_count": 13,
     "metadata": {},
     "output_type": "execute_result"
    }
   ],
   "source": [
    "import inspect\n",
    "from naginterfaces.library.examples.opt import bounds_bobyqa_func_ex\n",
    "print(''.join(inspect.getsourcelines(bounds_bobyqa_func_ex)[0]))\n",
    "#!/usr/bin/env python\n",
    "\"``naginterfaces.library.opt.bounds_bobyqa_func`` Python Example.\""
   ]
  },
  {
   "cell_type": "code",
   "execution_count": null,
   "metadata": {},
   "outputs": [],
   "source": []
  }
 ],
 "metadata": {
  "kernelspec": {
   "display_name": "Python 3",
   "language": "python",
   "name": "python3"
  },
  "language_info": {
   "codemirror_mode": {
    "name": "ipython",
    "version": 3
   },
   "file_extension": ".py",
   "mimetype": "text/x-python",
   "name": "python",
   "nbconvert_exporter": "python",
   "pygments_lexer": "ipython3",
   "version": "3.7.1"
  }
 },
 "nbformat": 4,
 "nbformat_minor": 2
}
