{
 "cells": [
  {
   "cell_type": "code",
   "execution_count": 1,
   "metadata": {},
   "outputs": [],
   "source": [
    "import naginterfaces.library.opt as no"
   ]
  },
  {
   "cell_type": "code",
   "execution_count": 2,
   "metadata": {},
   "outputs": [],
   "source": [
    "nvar = 3\n",
    "handle = no.handle_init(nvar)"
   ]
  },
  {
   "cell_type": "code",
   "execution_count": 3,
   "metadata": {},
   "outputs": [],
   "source": [
    "bigbnd = 1.0e20\n",
    "strng = \"Infinite Bound Size = %f\" %bigbnd\n",
    "no.handle_opt_set(handle, strng)\n",
    "no.handle_opt_set(handle, \"print level = 0\")"
   ]
  },
  {
   "cell_type": "code",
   "execution_count": 4,
   "metadata": {},
   "outputs": [],
   "source": [
    "lx = [0.0,0.0,0.0]\n",
    "ux = [bigbnd, bigbnd, bigbnd]\n",
    "no.handle_set_simplebounds(handle, lx, ux)"
   ]
  },
  {
   "cell_type": "code",
   "execution_count": 5,
   "metadata": {},
   "outputs": [
    {
     "data": {
      "text/plain": [
       "2"
      ]
     },
     "execution_count": 5,
     "metadata": {},
     "output_type": "execute_result"
    }
   ],
   "source": [
    "lb = [1.0, .05]\n",
    "ub = [1.0, bigbnd]\n",
    "irowb = [1,1,1,2,2,2]\n",
    "icolb = [1,2,3,1,2,3]\n",
    "b = [1.,1.,1.,.107321,.073669,.062701]\n",
    "no.handle_set_linconstr(handle, lb, ub, irowb, icolb, b)"
   ]
  },
  {
   "cell_type": "code",
   "execution_count": 6,
   "metadata": {},
   "outputs": [],
   "source": [
    "irowh = [1,1,1,2,2,3]\n",
    "icolh = [1,2,3,2,3,3]\n",
    "h = [.02778, .00387, .00021, .01112, -.00020, .001115]\n",
    "no.handle_set_quadobj(handle, None, None, irowh, icolh, h)"
   ]
  },
  {
   "cell_type": "code",
   "execution_count": 7,
   "metadata": {},
   "outputs": [],
   "source": [
    "objfun = None\n",
    "objgrd = None\n",
    "confun = None\n",
    "congrd = None\n",
    "hess = None\n",
    "x = [.1,.1,.1]\n",
    "nnzu = 0\n",
    "mon = None\n",
    "data = None\n",
    "io_manager = None\n",
    "[x, u, rinfo, stats] = no.handle_solve_ipopt(handle, objfun, objgrd, confun, congrd, hess, x, nnzu, mon, data, io_manager)"
   ]
  },
  {
   "cell_type": "code",
   "execution_count": 9,
   "metadata": {},
   "outputs": [
    {
     "name": "stdout",
     "output_type": "stream",
     "text": [
      "naginterfaces.base.opt.handle_print:  Linear constraints bounds\n",
      "naginterfaces.base.opt.handle_print:                  Brow_      1 =   1.000E+00\n",
      "naginterfaces.base.opt.handle_print:     5.000E-02 <= Brow_      2\n"
     ]
    }
   ],
   "source": [
    "no.handle_print(handle, 6, \"Linear Constraints Bounds\", io_manager=None)"
   ]
  },
  {
   "cell_type": "code",
   "execution_count": 12,
   "metadata": {},
   "outputs": [
    {
     "name": "stdout",
     "output_type": "stream",
     "text": [
      "x=(0.0162, 0.0978, 0.8860)\n",
      "f(x)=0.0005\n"
     ]
    }
   ],
   "source": [
    "print(\"x=(%1.4f, %1.4f, %1.4f)\"%(x[0],x[1],x[2]))\n",
    "print(\"f(x)=%1.4f\"%rinfo[0]) "
   ]
  },
  {
   "cell_type": "code",
   "execution_count": null,
   "metadata": {},
   "outputs": [],
   "source": [
    "no.handle_free(handle)"
   ]
  },
  {
   "cell_type": "code",
   "execution_count": null,
   "metadata": {},
   "outputs": [],
   "source": []
  }
 ],
 "metadata": {
  "kernelspec": {
   "display_name": "Python 3",
   "language": "python",
   "name": "python3"
  },
  "language_info": {
   "codemirror_mode": {
    "name": "ipython",
    "version": 3
   },
   "file_extension": ".py",
   "mimetype": "text/x-python",
   "name": "python",
   "nbconvert_exporter": "python",
   "pygments_lexer": "ipython3",
   "version": "3.7.1"
  }
 },
 "nbformat": 4,
 "nbformat_minor": 2
}
