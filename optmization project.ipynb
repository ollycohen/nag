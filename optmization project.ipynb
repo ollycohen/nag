{
 "cells": [
  {
   "cell_type": "code",
   "execution_count": 1,
   "metadata": {},
   "outputs": [],
   "source": [
    "import naginterfaces.library.opt as no\n",
    "import time"
   ]
  },
  {
   "cell_type": "code",
   "execution_count": 2,
   "metadata": {},
   "outputs": [],
   "source": [
    "#handle = no.handle_init(nvar)\n",
    "nvar = 3"
   ]
  },
  {
   "cell_type": "code",
   "execution_count": 3,
   "metadata": {},
   "outputs": [],
   "source": [
    "# no.handle_opt_set(handle, \"print level = 0\")\n",
    "bigbnd = 1.0e20\n",
    "strng = \"Infinite Bound Size = %f\" %bigbnd"
   ]
  },
  {
   "cell_type": "code",
   "execution_count": 4,
   "metadata": {},
   "outputs": [],
   "source": [
    "# no.handle_set_simplebounds(handle, lx, ux)\n",
    "lx = [0.0,0.0,0.0]\n",
    "ux = [bigbnd, bigbnd, bigbnd]"
   ]
  },
  {
   "cell_type": "code",
   "execution_count": 5,
   "metadata": {},
   "outputs": [],
   "source": [
    "#no.handle_set_linconstr(handle, lb, ub, irowb, icolb, b)\n",
    "#b contains the vector of geometric mean returns\n",
    "ub = [1.0, bigbnd]\n",
    "irowb = [1,1,1,2,2,2]\n",
    "icolb = [1,2,3,1,2,3]\n",
    "b = [1.,1.,1.,.107321,.073669,.062701]\n",
    "idlc = 0 "
   ]
  },
  {
   "cell_type": "code",
   "execution_count": 6,
   "metadata": {},
   "outputs": [],
   "source": [
    "#quadobj takes the defines the function based on the covariance matrix, which is a measure of volatility\n",
    "#no.handle_set_quadobj(handle, None, None, irowh, icolh, h)\n",
    "irowh = [1,1,1,2,2,3]\n",
    "icolh = [1,2,3,2,3,3]\n",
    "h = [.02778, .00387, .00021, .01112, -.00020, .001115]"
   ]
  },
  {
   "cell_type": "code",
   "execution_count": null,
   "metadata": {},
   "outputs": [],
   "source": []
  },
  {
   "cell_type": "code",
   "execution_count": 7,
   "metadata": {},
   "outputs": [],
   "source": [
    "#no.handle_solve_ipopt(handle, objfun, objgrd, confun, congrd, hess, x, nnzu, mon=None, data=None, io_manager=None)\n",
    "objfun = None\n",
    "objgrd = None\n",
    "confun = None\n",
    "congrd = None\n",
    "hess = None\n",
    "x = [1.,1.,1.]\n",
    "nnzu = 0\n",
    "mon = None\n",
    "data = None\n",
    "io_manager = None"
   ]
  },
  {
   "cell_type": "code",
   "execution_count": 9,
   "metadata": {},
   "outputs": [
    {
     "name": "stdout",
     "output_type": "stream",
     "text": [
      "Lower Linear Constraint Bound = 0.04; x=(0.0161, 0.0978, 0.8861); f(x)=0.0005 ; Elapsed Time = 0.02724910\n",
      "Lower Linear Constraint Bound = 0.05; x=(0.0163, 0.0977, 0.8860); f(x)=0.0005 ; Elapsed Time = 0.01532292\n",
      "Lower Linear Constraint Bound = 0.06; x=(0.0156, 0.0980, 0.8864); f(x)=0.0005 ; Elapsed Time = 0.01549697\n",
      "Lower Linear Constraint Bound = 0.07; x=(0.1342, 0.1196, 0.7462); f(x)=0.0007 ; Elapsed Time = 0.01779604\n",
      "Lower Linear Constraint Bound = 0.08; x=(0.3489, 0.1577, 0.4934); f(x)=0.0022 ; Elapsed Time = 0.01443315\n",
      "Lower Linear Constraint Bound = 0.09; x=(0.5637, 0.1957, 0.2406); f(x)=0.0051 ; Elapsed Time = 0.01205683\n",
      "Lower Linear Constraint Bound = 0.10; x=(0.7834, 0.2138, 0.0029); f(x)=0.0094 ; Elapsed Time = 0.01181316\n",
      "naginterfaces.base.opt.handle_print:  Overview\n",
      "naginterfaces.base.opt.handle_print:    Status:                  Solver finished, only options can be changed.\n",
      "naginterfaces.base.opt.handle_print:    No of variables:         3\n",
      "naginterfaces.base.opt.handle_print:    Objective function:      quadratic\n",
      "naginterfaces.base.opt.handle_print:    Simple bounds:           defined\n",
      "naginterfaces.base.opt.handle_print:    Linear constraints:      2\n",
      "naginterfaces.base.opt.handle_print:    Nonlinear constraints:   not defined\n",
      "naginterfaces.base.opt.handle_print:    Matrix constraints:      not defined\n"
     ]
    }
   ],
   "source": [
    "# r = the lower bound of the desired return value \n",
    "# f(x) = volatility\n",
    "# x = variables; respective weight of assets in portfolio; sum of all x values add up to one\n",
    "r = [.04, .05, .06, .07, .08, .09, .1, .11]\n",
    "\n",
    "for i in r :\n",
    "        start_time = time.time()\n",
    "        lb = [1, i]\n",
    "        handle = no.handle_init(nvar)\n",
    "        no.handle_set_linconstr(handle, lb, ub, irowb, icolb, b, idlc)\n",
    "        no.handle_opt_set(handle, strng)\n",
    "        no.handle_opt_set(handle, \"print level = 0\")\n",
    "        no.handle_set_simplebounds(handle, lx, ux)\n",
    "        no.handle_set_quadobj(handle, None, None, irowh, icolh, h)\n",
    "        [x, u, rinfo, stats] = no.handle_solve_ipopt(handle, objfun, objgrd, confun, congrd, hess, x, nnzu, mon, data, io_manager)\n",
    "        elapsed_time = time.time() - start_time\n",
    "        print(\"Lower Linear Constraint Bound = %1.2f; x=(%1.4f, %1.4f, %1.4f); f(x)=%1.4f ; Elapsed Time = %0.8f\" % (i, x[0],x[1],x[2],rinfo[0], elapsed_time))\n",
    "        if (i == .1 ) : \n",
    "            no.handle_print(handle, 6, \"Overview\", io_manager=None)\n",
    "            break\n",
    "        no.handle_free(handle)\n",
    "    "
   ]
  },
  {
   "cell_type": "code",
   "execution_count": null,
   "metadata": {},
   "outputs": [],
   "source": [
    "no.handle_free(handle)"
   ]
  }
 ],
 "metadata": {
  "kernelspec": {
   "display_name": "Python 3",
   "language": "python",
   "name": "python3"
  },
  "language_info": {
   "codemirror_mode": {
    "name": "ipython",
    "version": 3
   },
   "file_extension": ".py",
   "mimetype": "text/x-python",
   "name": "python",
   "nbconvert_exporter": "python",
   "pygments_lexer": "ipython3",
   "version": "3.7.1"
  }
 },
 "nbformat": 4,
 "nbformat_minor": 2
}
