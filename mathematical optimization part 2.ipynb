{
 "cells": [
  {
   "cell_type": "code",
   "execution_count": 1,
   "metadata": {},
   "outputs": [],
   "source": [
    "import naginterfaces.library.opt as no"
   ]
  },
  {
   "cell_type": "code",
   "execution_count": 2,
   "metadata": {},
   "outputs": [
    {
     "name": "stdout",
     "output_type": "stream",
     "text": [
      "naginterfaces.base.opt.handle_print:  Overview\n",
      "naginterfaces.base.opt.handle_print:    Status:                  Problem and option settings are editable.\n",
      "naginterfaces.base.opt.handle_print:    No of variables:         3\n",
      "naginterfaces.base.opt.handle_print:    Objective function:      not defined yet\n",
      "naginterfaces.base.opt.handle_print:    Simple bounds:           not defined yet\n",
      "naginterfaces.base.opt.handle_print:    Linear constraints:      not defined yet\n",
      "naginterfaces.base.opt.handle_print:    Nonlinear constraints:   not defined yet\n",
      "naginterfaces.base.opt.handle_print:    Matrix constraints:      not defined yet\n"
     ]
    }
   ],
   "source": [
    "nvar = 3\n",
    "handle = no.handle_init(nvar)\n",
    "no.handle_print(handle, 6, \"Overview\", io_manager=None)"
   ]
  },
  {
   "cell_type": "code",
   "execution_count": 4,
   "metadata": {},
   "outputs": [],
   "source": [
    "bigbnd = 1.0e20\n",
    "strng = \"Infinite Bound Size = %f\" %bigbnd\n",
    "no.handle_opt_set(handle, \"print level = 0\")"
   ]
  },
  {
   "cell_type": "code",
   "execution_count": 5,
   "metadata": {},
   "outputs": [
    {
     "name": "stdout",
     "output_type": "stream",
     "text": [
      "naginterfaces.base.opt.handle_print:  Simple bounds\n",
      "naginterfaces.base.opt.handle_print:     0.000E+00 <= X_      1\n",
      "naginterfaces.base.opt.handle_print:     0.000E+00 <= X_      2\n",
      "naginterfaces.base.opt.handle_print:     0.000E+00 <= X_      3\n"
     ]
    }
   ],
   "source": [
    "lx = [0.0,0.0,0.0]\n",
    "ux = [bigbnd, bigbnd, bigbnd]\n",
    "no.handle_set_simplebounds(handle, lx, ux)\n",
    "no.handle_print(handle, 6, \"Simple Bounds\", io_manager=None)"
   ]
  },
  {
   "cell_type": "code",
   "execution_count": 6,
   "metadata": {},
   "outputs": [
    {
     "name": "stdout",
     "output_type": "stream",
     "text": [
      "naginterfaces.base.opt.handle_print:  Linear constraints bounds\n",
      "naginterfaces.base.opt.handle_print:                  Brow_      1 =   1.000E+00\n",
      "naginterfaces.base.opt.handle_print:     7.000E-02 <= Brow_      2\n"
     ]
    }
   ],
   "source": [
    "#b contains the vector of geometric mean returns\n",
    "ub = [1.0]\n",
    "lb = [1.0]\n",
    "irowb = [1,1,1]\n",
    "icolb = [1,2,3] \n",
    "b = []\n",
    "idlc = 0 \n",
    "no.handle_set_linconstr(handle, lb, ub, irowb, icolb, b)\n",
    "no.handle_print(handle, 6, \"Linear Constraints Bounds\", io_manager=None)"
   ]
  },
  {
   "cell_type": "code",
   "execution_count": null,
   "metadata": {
    "collapsed": true
   },
   "outputs": [],
   "source": [
    "bl = [.01]\n",
    "bu = [.01]\n",
    "irowgd = [1,1,1]\n",
    "icolgd  = [1,2,3]\n",
    "no.handle_set_nlnconstr(handle,bl, bu, irowgd, icolgd)"
   ]
  },
  {
   "cell_type": "code",
   "execution_count": null,
   "metadata": {},
   "outputs": [],
   "source": [
    "cvec = [.0]\n",
    "no.handle_set_linobj(handle, cvec)\n"
   ]
  },
  {
   "cell_type": "code",
   "execution_count": null,
   "metadata": {},
   "outputs": [],
   "source": [
    "no.handle_free(handle)"
   ]
  }
 ],
 "metadata": {
  "kernelspec": {
   "display_name": "Python 3",
   "language": "python",
   "name": "python3"
  },
  "language_info": {
   "codemirror_mode": {
    "name": "ipython",
    "version": 3
   },
   "file_extension": ".py",
   "mimetype": "text/x-python",
   "name": "python",
   "nbconvert_exporter": "python",
   "pygments_lexer": "ipython3",
   "version": "3.7.1"
  }
 },
 "nbformat": 4,
 "nbformat_minor": 2
}
